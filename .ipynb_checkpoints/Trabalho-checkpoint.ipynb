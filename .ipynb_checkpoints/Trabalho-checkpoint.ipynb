{
 "cells": [
  {
   "cell_type": "markdown",
   "metadata": {},
   "source": [
    "![purple-divider](https://user-images.githubusercontent.com/7065401/52071927-c1cd7100-2562-11e9-908a-dde91ba14e59.png)\n",
    "\n",
    "### Introdution to Machine Learning \n",
    "<blockquote>Discipline 5955006-2, USP-RP 06/05/2020 </blockquote>\n",
    "\n",
    "### <img width=\"400\" src=\"Usp_logo.png\">"
   ]
  },
  {
   "cell_type": "markdown",
   "metadata": {},
   "source": [
    "![green-divider](https://user-images.githubusercontent.com/7065401/52071924-c003ad80-2562-11e9-8297-1c6595f8a7ff.png)\n",
    "### Objectives:\n",
    "\n",
    "<blockquote>\n",
    "    <ol>\n",
    "        <li>Making datasets reader function for:\n",
    "    csv, xlsx and json data formats</li>\n",
    "        <li>Confection of a decision Tree Class</li>\n",
    "        <li>Plot the best visualization forms to see the results</li>\n",
    "    </ol>\n",
    "</blockquote>\n",
    "    "
   ]
  },
  {
   "cell_type": "markdown",
   "metadata": {},
   "source": [
    "![green-divider](https://user-images.githubusercontent.com/7065401/52071924-c003ad80-2562-11e9-8297-1c6595f8a7ff.png)\n",
    "### 1. Making datasets reader function for:\n",
    "<blockquote>\n",
    "csv, xlsx and json data formats\n",
    "</blockquote>"
   ]
  },
  {
   "cell_type": "code",
   "execution_count": 1,
   "metadata": {},
   "outputs": [],
   "source": [
    "import pandas as pd # import library for read datasets types\n",
    "\n",
    "# this function read a datset with format of: csv, json or xlsx\n",
    "#\n",
    "# path: the path of dataset in your computer\n",
    "#\n",
    "# extension: string of the format extension of dataset\n",
    "#\n",
    "# Return: this function returns a pandas DataFrame of your dataset \n",
    "def Read_Data(path, extension = None):\n",
    "    \n",
    "    aceptable_formats = ['csv', 'xlsx', 'json']\n",
    "    \n",
    "    if (extension not in aceptable_formats):\n",
    "        print('please choose a aceptable format: ', aceptable_formats)\n",
    "        return\n",
    "    \n",
    "    if(extension == 'xlsx'):\n",
    "        return pd.read_excel(path)\n",
    "    \n",
    "    if(extension == 'csv'):\n",
    "        return pd.read_csv(path)\n",
    "    \n",
    "    if(extension == 'json'):\n",
    "        return pd.read_json(path)"
   ]
  },
  {
   "cell_type": "markdown",
   "metadata": {},
   "source": [
    "![green-divider](https://user-images.githubusercontent.com/7065401/52071924-c003ad80-2562-11e9-8297-1c6595f8a7ff.png)\n",
    "### 2. Making the Decision Tree Class:\n",
    "## This class has:\n",
    "<blockquote>\n",
    "    <ol>\n",
    "        <li> Init </li>\n",
    "        <li> Train </li>\n",
    "        <li> Post prunning </li>\n",
    "        <li> Visualize </li>\n",
    "    </ol>\n",
    "</blockquote>"
   ]
  },
  {
   "cell_type": "code",
   "execution_count": 2,
   "metadata": {},
   "outputs": [],
   "source": [
    "import numpy as np\n",
    "import math\n",
    "from operator import itemgetter\n",
    "import matplotlib.pyplot as plt\n",
    "import matplotlib.colors as pltc\n",
    "\n",
    "class DecisionTree():\n",
    "    \n",
    "    # @__init__ Constructor method of our Decision Tree class \n",
    "    # \n",
    "    # iteration: iteration of recursive method\n",
    "    # worn to know if is the first time of Train() was called\n",
    "    #\n",
    "    # vector_class: List which has [Atribute, Atribute_value, iteration] or [Atribute, Atribute_value, level of node, class] (if the node is a leaf)\n",
    "    # worn to predict a new sample and for visualize the deciosion boundaries\n",
    "    #\n",
    "    def __init__(self, metrics):\n",
    "        self.iteration = 0\n",
    "        self.vector_class = []\n",
    "        self.metrics = metrics\n",
    "    \n",
    "    # Train method of our Decision Tree class, receive the all data of type 'pd.DataFrame' and is responsable for train the Decision Tree \n",
    "    # \n",
    "    def Train(self, data):\n",
    "        number_types = ['int64', 'float64'] # just to verify if the data is numerical or not\n",
    "            \n",
    "        # in the first iteration just copy the data, slice the classes and tranform the classes to 0, 1, ... , N. N is the number of Classes.\n",
    "        if (self.iteration == 0):\n",
    "            Data = data.copy() # copy the data\n",
    "            self.True_data = Data.iloc[:, :-1] # slice the class of the atributes\n",
    "            data = self.True_data # data is our data to manipulate\n",
    "            self.Classes = pd.Series(Data.iloc[:, -1]) # taking the classes of data\n",
    "            self.label_classes = np.unique(self.Classes) # seeying the unique values of our Classes\n",
    "            \n",
    "            # transform the label of  classes in 0,1, ... , N.\n",
    "            for i in range(len(self.label_classes)):\n",
    "                self.Classes[self.Classes == self.label_classes[i]] = i\n",
    "                \n",
    "        atributos = data.shape[1] # number of atributes\n",
    "        N = data.shape[0] # number of samples\n",
    "        \n",
    "        ganho_info_atributos = [] # list which has all the information gain of each atribute in a one iteration \n",
    "        \n",
    "        # for each atribute in our date\n",
    "        for atributo in range(atributos):\n",
    "\n",
    "            ordened_unique_values = np.unique([data.iloc[:,atributo]]) # separe the uniques values of current atribute\n",
    "            tabela_atual = np.zeros(shape=(ordened_unique_values.shape[0], self.label_classes.shape[0])) # create the table of a decision tree\n",
    "            tabela_atual = pd.DataFrame(tabela_atual, columns=[self.label_classes], index=[ordened_unique_values]) # just transform to a dataframe for more easy manipulation\n",
    "            \n",
    "            ganho_info_atributo = 0 # current atribute information gain\n",
    "            split_info = 0 # the split-info of atribute if the metrics is the 'Gain_ratio'\n",
    "            \n",
    "            # if the atribute is not a numeric\n",
    "            if(data.dtypes[atributo] not in number_types):\n",
    "                \n",
    "                # for each unique value on atribute\n",
    "                for ind,unique_valor in enumerate(ordened_unique_values):                    \n",
    "                    \n",
    "                    # for each sample\n",
    "                    for row in range(N):\n",
    "                        \n",
    "                        # calculate the frequency table\n",
    "                        if(data.iloc[row,atributo] == unique_valor):\n",
    "                            tabela_atual.iloc[ind, self.Classes[data.index[row]]] = tabela_atual.iloc[ind, self.Classes[data.index[row]]] + 1 \n",
    "                    \n",
    "                ############# calculate the information gain of this atribute ############\n",
    "                \n",
    "                for i in range(len(tabela_atual.index)):\n",
    "\n",
    "                    # calculate the sum of the unique value in atribute\n",
    "                    total_unique = tabela_atual.iloc[i, :].sum()\n",
    "\n",
    "                    ganho_info = 0 # information gain in a subdomain T\n",
    "\n",
    "                    # for each class\n",
    "                    for j in range(len(tabela_atual.columns)):\n",
    "\n",
    "                        # if the frequency of this class is zero, just pass\n",
    "                        if(tabela_atual.iloc[i,j] == 0.0):\n",
    "                            ganho_info = ganho_info\n",
    "                        # else sum the information gain in this subdomain \n",
    "                        else:\n",
    "                            ganho_info = ganho_info + tabela_atual.iloc[i,j]/total_unique * math.log2(tabela_atual.iloc[i,j]/total_unique)\n",
    "                    \n",
    "                    # the total information gain of atribute if the metrics is a information gain\n",
    "                    ganho_info_atributo = ganho_info_atributo + abs((total_unique/ N) * (ganho_info))\n",
    "                     \n",
    "                    if (self.metrics == 'Gain_ratio'): # calculate the gain ratio of this atribute\n",
    "                        \n",
    "                        info = 0 # information gain in the atribute \n",
    "                        \n",
    "                        # calcule just the info of Atribute\n",
    "                        for j in range(len(tabela_atual.columns)): # i know there is a double travel in atributes, but is more readable :<\n",
    "                            total_class = tabela_atual.iloc[:, j].sum()\n",
    "                            \n",
    "                            if (total_class == 0.0):\n",
    "                                pass\n",
    "                            else:\n",
    "                                info = info + abs(total_class/self.True_data.shape[0] * math.log2(total_class/self.True_data.shape[0]))\n",
    "                        \n",
    "                        if (total_unique == 0.0):\n",
    "                            pass\n",
    "                        else:\n",
    "                            split_info = split_info + abs(total_unique/self.True_data.shape[0] * math.log2(total_unique/self.True_data.shape[0])) \n",
    "               \n",
    "                if (self.metrics == 'Info_Gain'):\n",
    "                            \n",
    "                    ganho_info_atributos.append([ganho_info_atributo, atributo]) # just append in List of information gain atributes\n",
    "                \n",
    "                if (self.metrics == 'Gain_ratio'):\n",
    "                    gain_ratio = (info - ganho_info_atributo) / split_info\n",
    "                    ganho_info_atributos.append([gain_ratio, atributo]) # just append in List of information gain atributes (here we matend the name of just because is more simple)\n",
    "                \n",
    "            else:  \n",
    "                print('Não trabalhamos com valores não categóricos!')\n",
    "                return\n",
    "        \n",
    "        if (self.metrics == 'Info_Gain'):\n",
    "            melhor_atri =  sorted(ganho_info_atributos, key=itemgetter(0)) # choose the best atribute, i. e., which one with the more information gain \n",
    "        \n",
    "        if (self.metrics == 'Gain_ratio'):\n",
    "            melhor_atri =  sorted(ganho_info_atributos, key=itemgetter(0), reverse = True) # choose the best atribute, i. e., which one with the more gain ratio \n",
    "\n",
    "        ##### verify if this domain will be a node or a leaf ######\n",
    "        # for each unique value of the chosen atribute\n",
    "        for unique in np.unique(data.loc[:, (data.columns[melhor_atri[0][1]])]):\n",
    "            \n",
    "            # slice the dataset for each unique vlaue\n",
    "            new_data = data.loc[data.loc[:,(data.columns[melhor_atri[0][1]])] == unique]\n",
    "            \n",
    "            # if the new domain has only sample of same class or has 2 or minus samples, this domain will be a leaf. \n",
    "            if(len(set(self.Classes[new_data.index])) == 1 or new_data.size <= 2 or len(new_data.columns) == 1):\n",
    "                # just cool print of a tree\n",
    "                print('{} {} = {}: {}'.format((len(self.True_data.columns) -  len(data.columns)) * '  ' + ':...',new_data.columns[melhor_atri[0][1]], unique, self.label_classes[self.Classes[new_data.index[0]]]))\n",
    "                \n",
    "                # append on a list of vector_classes\n",
    "                self.vector_class.append([new_data.columns[melhor_atri[0][1]], unique, len(self.True_data.columns) -  len(data.columns), self.label_classes[self.Classes[new_data.index[0]]]])\n",
    "                # and just pass \n",
    "                pass\n",
    "\n",
    "            # else, remove of data the chosen atribute and call again Train() method    \n",
    "            else:\n",
    "                \n",
    "                # just cool print of a tree\n",
    "                print('{} {} = {}: '.format((len(self.True_data.columns) - len(data.columns)) * '  ' + ':...',new_data.columns[melhor_atri[0][1]], unique))\n",
    "                \n",
    "                # append on a list of vector_classes\n",
    "                self.vector_class.append([new_data.columns[melhor_atri[0][1]], unique, len(self.True_data.columns) -  len(data.columns)])\n",
    "                \n",
    "                # remove the chosen atribute\n",
    "                new_data = new_data.drop(columns=data.columns[melhor_atri[0][1]])\n",
    "                self.iteration = self.iteration + 1 # count the iteration\n",
    "                \n",
    "                # call again the Train() method\n",
    "                self.Train(new_data)\n",
    "    \n",
    "    # predict method of our Decision Tree class, receive the sample of type pandas Dataframe, return the class of a current trained decision tree.\n",
    "    # \n",
    "    def predict(self, dado):\n",
    "        anterior = [] # a list for know who's atributes was already seen\n",
    "        \n",
    "        # for each node in our decision tree \n",
    "        for vector in self.vector_class:\n",
    "            \n",
    "            # if the node is a node.\n",
    "            if len(vector) == 3:\n",
    "                \n",
    "                # if the sample has the same value for this atribute and the atribute was not already seen and the total of atributes seen is the same of the current level in a tree.\n",
    "                if (dado[vector[0]] == vector[1] and vector[0] not in anterior and len(anterior) == vector[2]):\n",
    "                    \n",
    "                    # just append the node\n",
    "                    anterior.append(vector[0])\n",
    "                    \n",
    "            # if is a leaf.\n",
    "            if len(vector) == 4:\n",
    "                \n",
    "                # if the sample has the same value for this atribute and the total of atributes seen is the same of the current level in a tree.\n",
    "                # we found the class of our tree.\n",
    "                if (dado[vector[0]] == vector[1] and len(anterior) == (vector[2])):\n",
    "                    print('A classe é {}'.format(vector[3]))\n",
    "                    return vector[3]\n",
    "        \n",
    "        # if the tree not classify, just return a label of first\n",
    "        return self.vector_class[0][3]\n",
    "    # predict method of our Decision Tree class,\n",
    "    # return the decision boundaries of our tree.\n",
    "    # \n",
    "    def visualize_region(self):\n",
    "        \n",
    "        plt.clf()\n",
    "        plt.cla()\n",
    "        \n",
    "        atributos = [] # list of all atributes already seen\n",
    "        ax = plt.gca() # image to plot\n",
    "        \n",
    "        colors = [k for k,v in pltc.BASE_COLORS.items()] # just a list of colors to display the classes\n",
    "        classes = list(self.label_classes) # all the labels of classes in data      \n",
    "        \n",
    "        # for each class\n",
    "        for i,vector in enumerate(self.vector_class):\n",
    "            \n",
    "            # if the atribute was not already seen\n",
    "            if (vector[0] not in atributos):\n",
    "                atributos.append(vector[0]) # append in atributes already seen\n",
    "                \n",
    "                # plot a point of this atribute in Y axis\n",
    "                plt.plot(vector[0])\n",
    "                \n",
    "                # plot a scatter plot in x,y (the unique value associate at this atribute ,same atribute)\n",
    "                plt.scatter([vector[1]],[atributos.index(vector[0])], c='black')\n",
    "                \n",
    "                # plot the label of this unioque value of atribute\n",
    "                plt.text(vector[1],atributos.index(vector[0]), vector[1], size = 8)\n",
    "                \n",
    "                # if is a leaf\n",
    "                if (len(vector) == 4):\n",
    "                    # plot the current point in other color\n",
    "                    plt.scatter([vector[1]],[atributos.index(vector[0])], c=colors[classes.index(vector[3])])\n",
    "            else:\n",
    "                \n",
    "                # plot a scatter plot in x,y (the unique value associate at this atribute ,same atribute)\n",
    "                plt.scatter([vector[1]],[atributos.index(vector[0])], c='black')\n",
    "                \n",
    "                # plot the label of this unioque value of atribute\n",
    "                plt.text(vector[1],atributos.index(vector[0]), vector[1],size = 8)\n",
    "                \n",
    "                # if is a leaf\n",
    "                if (len(vector) == 4):\n",
    "                    # plot the current point in other color\n",
    "                    plt.scatter([vector[1]],[atributos.index(vector[0])], c=colors[classes.index(vector[3])])\n",
    "\n",
    "        \n",
    "        plt.legend(self.label_classes) # add the legend of our image\n",
    "        leg = ax.get_legend()\n",
    "        \n",
    "        # just setting the rigth color for each class\n",
    "        for i in range(len(self.label_classes)):\n",
    "            \n",
    "            leg.legendHandles[i].set_color(colors[i])\n",
    "\n",
    "        plt.show()\n",
    "        plt.close()"
   ]
  },
  {
   "cell_type": "markdown",
   "metadata": {},
   "source": [
    "![green-divider](https://user-images.githubusercontent.com/7065401/52071924-c003ad80-2562-11e9-8297-1c6595f8a7ff.png)\n",
    "### 2.1 Making a funtion which plots the confusion matrix:"
   ]
  },
  {
   "cell_type": "code",
   "execution_count": 3,
   "metadata": {},
   "outputs": [],
   "source": [
    "import seaborn as sn\n",
    "def confusion_matrix(data,test_data, Tree):\n",
    "    plt.clf()\n",
    "    Classes = pd.Series(data.iloc[:, -1]) # taking the classes of data\n",
    "    label_classes = np.unique(Classes) # getting the unique classes\n",
    "    confusion_matrix = np.zeros((len(label_classes), len(label_classes)))\n",
    "    \n",
    "    for i in range(test_data.shape[0]):\n",
    "        pred = Tree.predict(test_data.iloc[i,:])\n",
    "        index_of_class = np.where(label_classes == test_data.iloc[i,-1])\n",
    "        index_of_pred_class = np.where(label_classes == pred)\n",
    "        confusion_matrix[index_of_class[0][0], index_of_pred_class[0][0]] += 1 \n",
    "        \n",
    "    df_cm = pd.DataFrame(confusion_matrix, columns=label_classes, index=label_classes)\n",
    "    sn.heatmap(df_cm, annot=True, annot_kws={\"size\": 16}) # font size\n",
    "\n",
    "    plt.show()\n",
    "    plt.close()"
   ]
  },
  {
   "cell_type": "markdown",
   "metadata": {},
   "source": [
    "![green-divider](https://user-images.githubusercontent.com/7065401/52071924-c003ad80-2562-11e9-8297-1c6595f8a7ff.png)\n",
    "### 3. Testing the Decision Tree Class:\n",
    "<blockquote>\n",
    "    Dataset: Jogar\n",
    "</blockquote>"
   ]
  },
  {
   "cell_type": "code",
   "execution_count": 4,
   "metadata": {},
   "outputs": [
    {
     "name": "stdout",
     "output_type": "stream",
     "text": [
      ":... Aparência  = chuva : \n",
      "  :... Ventando  = falso : sim\n",
      "  :... Ventando  = verdadeiro : não\n",
      ":... Aparência  = nublado : sim\n",
      ":... Aparência  = sol : \n",
      "  :... Umidade  = alta : não\n",
      "  :... Umidade  = normal : sim\n"
     ]
    },
    {
     "data": {
      "image/png": "[encoded data removed]",
      "text/plain": [
       "<Figure size 432x288 with 1 Axes>"
      ]
     },
     "metadata": {
      "needs_background": "light"
     },
     "output_type": "display_data"
    },
    {
     "name": "stdout",
     "output_type": "stream",
     "text": [
      "A classe é não\n"
     ]
    },
    {
     "data": {
      "text/html": [
       "<div>\n",
       "<style scoped>\n",
       "    .dataframe tbody tr th:only-of-type {\n",
       "        vertical-align: middle;\n",
       "    }\n",
       "\n",
       "    .dataframe tbody tr th {\n",
       "        vertical-align: top;\n",
       "    }\n",
       "\n",
       "    .dataframe thead th {\n",
       "        text-align: right;\n",
       "    }\n",
       "</style>\n",
       "<table border=\"1\" class=\"dataframe\">\n",
       "  <thead>\n",
       "    <tr style=\"text-align: right;\">\n",
       "      <th></th>\n",
       "      <th>Aparência</th>\n",
       "      <th>Temperatura</th>\n",
       "      <th>Umidade</th>\n",
       "      <th>Ventando</th>\n",
       "      <th>Jogar</th>\n",
       "    </tr>\n",
       "  </thead>\n",
       "  <tbody>\n",
       "    <tr>\n",
       "      <th>1</th>\n",
       "      <td>sol</td>\n",
       "      <td>quente</td>\n",
       "      <td>alta</td>\n",
       "      <td>falso</td>\n",
       "      <td>não</td>\n",
       "    </tr>\n",
       "    <tr>\n",
       "      <th>2</th>\n",
       "      <td>sol</td>\n",
       "      <td>quente</td>\n",
       "      <td>alta</td>\n",
       "      <td>verdadeiro</td>\n",
       "      <td>não</td>\n",
       "    </tr>\n",
       "    <tr>\n",
       "      <th>3</th>\n",
       "      <td>nublado</td>\n",
       "      <td>quente</td>\n",
       "      <td>alta</td>\n",
       "      <td>falso</td>\n",
       "      <td>sim</td>\n",
       "    </tr>\n",
       "    <tr>\n",
       "      <th>4</th>\n",
       "      <td>chuva</td>\n",
       "      <td>agradável</td>\n",
       "      <td>alta</td>\n",
       "      <td>falso</td>\n",
       "      <td>sim</td>\n",
       "    </tr>\n",
       "    <tr>\n",
       "      <th>5</th>\n",
       "      <td>chuva</td>\n",
       "      <td>fria</td>\n",
       "      <td>normal</td>\n",
       "      <td>falso</td>\n",
       "      <td>sim</td>\n",
       "    </tr>\n",
       "    <tr>\n",
       "      <th>6</th>\n",
       "      <td>chuva</td>\n",
       "      <td>fria</td>\n",
       "      <td>normal</td>\n",
       "      <td>verdadeiro</td>\n",
       "      <td>não</td>\n",
       "    </tr>\n",
       "    <tr>\n",
       "      <th>7</th>\n",
       "      <td>nublado</td>\n",
       "      <td>fria</td>\n",
       "      <td>normal</td>\n",
       "      <td>verdadeiro</td>\n",
       "      <td>sim</td>\n",
       "    </tr>\n",
       "    <tr>\n",
       "      <th>8</th>\n",
       "      <td>sol</td>\n",
       "      <td>agradável</td>\n",
       "      <td>alta</td>\n",
       "      <td>falso</td>\n",
       "      <td>não</td>\n",
       "    </tr>\n",
       "    <tr>\n",
       "      <th>9</th>\n",
       "      <td>sol</td>\n",
       "      <td>fria</td>\n",
       "      <td>normal</td>\n",
       "      <td>falso</td>\n",
       "      <td>sim</td>\n",
       "    </tr>\n",
       "    <tr>\n",
       "      <th>10</th>\n",
       "      <td>chuva</td>\n",
       "      <td>agradável</td>\n",
       "      <td>normal</td>\n",
       "      <td>falso</td>\n",
       "      <td>sim</td>\n",
       "    </tr>\n",
       "    <tr>\n",
       "      <th>11</th>\n",
       "      <td>sol</td>\n",
       "      <td>agradável</td>\n",
       "      <td>normal</td>\n",
       "      <td>verdadeiro</td>\n",
       "      <td>sim</td>\n",
       "    </tr>\n",
       "    <tr>\n",
       "      <th>12</th>\n",
       "      <td>nublado</td>\n",
       "      <td>agradável</td>\n",
       "      <td>alta</td>\n",
       "      <td>verdadeiro</td>\n",
       "      <td>sim</td>\n",
       "    </tr>\n",
       "    <tr>\n",
       "      <th>13</th>\n",
       "      <td>nublado</td>\n",
       "      <td>quente</td>\n",
       "      <td>normal</td>\n",
       "      <td>falso</td>\n",
       "      <td>sim</td>\n",
       "    </tr>\n",
       "    <tr>\n",
       "      <th>14</th>\n",
       "      <td>chuva</td>\n",
       "      <td>agradável</td>\n",
       "      <td>alta</td>\n",
       "      <td>verdadeiro</td>\n",
       "      <td>não</td>\n",
       "    </tr>\n",
       "  </tbody>\n",
       "</table>\n",
       "</div>"
      ],
      "text/plain": [
       "   Aparência  Temperatura  Umidade     Ventando  Jogar\n",
       "1        sol       quente     alta        falso    não\n",
       "2        sol       quente     alta   verdadeiro    não\n",
       "3    nublado       quente     alta        falso    sim\n",
       "4      chuva    agradável     alta        falso    sim\n",
       "5      chuva         fria   normal        falso    sim\n",
       "6      chuva         fria   normal   verdadeiro    não\n",
       "7    nublado         fria   normal   verdadeiro    sim\n",
       "8        sol    agradável     alta        falso    não\n",
       "9        sol         fria   normal        falso    sim\n",
       "10     chuva    agradável   normal        falso    sim\n",
       "11       sol    agradável   normal   verdadeiro    sim\n",
       "12   nublado    agradável     alta   verdadeiro    sim\n",
       "13   nublado       quente   normal        falso    sim\n",
       "14     chuva    agradável     alta   verdadeiro    não"
      ]
     },
     "execution_count": 4,
     "metadata": {},
     "output_type": "execute_result"
    }
   ],
   "source": [
    "data = Read_Data('lecture_data.csv', 'csv') # read a lecture example \n",
    "DT = DecisionTree('Info_Gain') # instanciate a Decision Tree class\n",
    "DT.Train(data = data) # Train the Tree\n",
    "DT.visualize_region() # visualize\n",
    "DT.predict(data.iloc[13,]) # example of predict the class of a new sample \n",
    "data"
   ]
  },
  {
   "cell_type": "code",
   "execution_count": 5,
   "metadata": {},
   "outputs": [
    {
     "name": "stdout",
     "output_type": "stream",
     "text": [
      ":... Aparência  = chuva : \n",
      "  :... Ventando  = falso : sim\n",
      "  :... Ventando  = verdadeiro : não\n",
      ":... Aparência  = nublado : sim\n",
      ":... Aparência  = sol : \n",
      "  :... Umidade  = alta : não\n",
      "  :... Umidade  = normal : sim\n"
     ]
    },
    {
     "data": {
      "image/png": "[encoded data removed]",
      "text/plain": [
       "<Figure size 432x288 with 1 Axes>"
      ]
     },
     "metadata": {
      "needs_background": "light"
     },
     "output_type": "display_data"
    },
    {
     "name": "stdout",
     "output_type": "stream",
     "text": [
      "A classe é não\n"
     ]
    },
    {
     "data": {
      "text/plain": [
       "'não'"
      ]
     },
     "execution_count": 5,
     "metadata": {},
     "output_type": "execute_result"
    }
   ],
   "source": [
    "data = Read_Data('lecture_data.csv', 'csv') # read a lecture example \n",
    "DT = DecisionTree('Gain_ratio') # instanciate a Decision Tree class\n",
    "DT.Train(data = data) # Train the Tree\n",
    "DT.visualize_region() # visualize\n",
    "DT.predict(data.iloc[13,]) # example of predict the class of a new sample "
   ]
  },
  {
   "cell_type": "markdown",
   "metadata": {},
   "source": [
    "![green-divider](https://user-images.githubusercontent.com/7065401/52071924-c003ad80-2562-11e9-8297-1c6595f8a7ff.png)\n",
    "### 3. Testing the Decision Tree Class:\n",
    "<blockquote>\n",
    "    Dataset: Cancer Breast\n",
    "</blockquote>"
   ]
  },
  {
   "cell_type": "code",
   "execution_count": 6,
   "metadata": {},
   "outputs": [
    {
     "name": "stdout",
     "output_type": "stream",
     "text": [
      ":... Tamanho do Tumor = 0-4: no-recurrence-events\n",
      ":... Tamanho do Tumor = 10-14: no-recurrence-events\n",
      ":... Tamanho do Tumor = 15-19: \n",
      "  :... Idade = 40-49: recurrence-events\n",
      "  :... Idade = 50-59: no-recurrence-events\n",
      "  :... Idade = 60-69: no-recurrence-events\n",
      ":... Tamanho do Tumor = 25-29: no-recurrence-events\n",
      ":... Tamanho do Tumor = 30-34: \n",
      "  :... Idade = 40-49: recurrence-events\n",
      "  :... Idade = 50-59: no-recurrence-events\n",
      ":... Tamanho do Tumor = 35-39: \n",
      "  :... Idade = 40-49: no-recurrence-events\n",
      "  :... Idade = 50-59: recurrence-events\n",
      ":... Tamanho do Tumor = 40-44: no-recurrence-events\n"
     ]
    },
    {
     "data": {
      "image/png": "[encoded data removed]",
      "text/plain": [
       "<Figure size 432x288 with 1 Axes>"
      ]
     },
     "metadata": {
      "needs_background": "light"
     },
     "output_type": "display_data"
    },
    {
     "name": "stdout",
     "output_type": "stream",
     "text": [
      "A classe é no-recurrence-events\n"
     ]
    },
    {
     "data": {
      "text/html": [
       "<div>\n",
       "<style scoped>\n",
       "    .dataframe tbody tr th:only-of-type {\n",
       "        vertical-align: middle;\n",
       "    }\n",
       "\n",
       "    .dataframe tbody tr th {\n",
       "        vertical-align: top;\n",
       "    }\n",
       "\n",
       "    .dataframe thead th {\n",
       "        text-align: right;\n",
       "    }\n",
       "</style>\n",
       "<table border=\"1\" class=\"dataframe\">\n",
       "  <thead>\n",
       "    <tr style=\"text-align: right;\">\n",
       "      <th></th>\n",
       "      <th>Idade</th>\n",
       "      <th>Menopausa</th>\n",
       "      <th>Tamanho do Tumor</th>\n",
       "      <th>Número de nódulos com metástase</th>\n",
       "      <th>Nódulo realmente teve metástase</th>\n",
       "      <th>Grau de malignidade</th>\n",
       "      <th>Mama</th>\n",
       "      <th>Quadrante</th>\n",
       "      <th>Tratamento</th>\n",
       "      <th>Classe</th>\n",
       "    </tr>\n",
       "  </thead>\n",
       "  <tbody>\n",
       "    <tr>\n",
       "      <th>0</th>\n",
       "      <td>40-49</td>\n",
       "      <td>premeno</td>\n",
       "      <td>15-19</td>\n",
       "      <td>0-2</td>\n",
       "      <td>yes</td>\n",
       "      <td>'3'</td>\n",
       "      <td>right</td>\n",
       "      <td>left_up</td>\n",
       "      <td>no</td>\n",
       "      <td>recurrence-events</td>\n",
       "    </tr>\n",
       "    <tr>\n",
       "      <th>1</th>\n",
       "      <td>50-59</td>\n",
       "      <td>ge40</td>\n",
       "      <td>15-19</td>\n",
       "      <td>0-2</td>\n",
       "      <td>no</td>\n",
       "      <td>'1'</td>\n",
       "      <td>right</td>\n",
       "      <td>central</td>\n",
       "      <td>no</td>\n",
       "      <td>no-recurrence-events</td>\n",
       "    </tr>\n",
       "    <tr>\n",
       "      <th>2</th>\n",
       "      <td>50-59</td>\n",
       "      <td>ge40</td>\n",
       "      <td>35-39</td>\n",
       "      <td>0-2</td>\n",
       "      <td>no</td>\n",
       "      <td>'2'</td>\n",
       "      <td>left</td>\n",
       "      <td>left_low</td>\n",
       "      <td>no</td>\n",
       "      <td>recurrence-events</td>\n",
       "    </tr>\n",
       "    <tr>\n",
       "      <th>3</th>\n",
       "      <td>40-49</td>\n",
       "      <td>premeno</td>\n",
       "      <td>35-39</td>\n",
       "      <td>0-2</td>\n",
       "      <td>yes</td>\n",
       "      <td>'3'</td>\n",
       "      <td>right</td>\n",
       "      <td>left_low</td>\n",
       "      <td>yes</td>\n",
       "      <td>no-recurrence-events</td>\n",
       "    </tr>\n",
       "    <tr>\n",
       "      <th>4</th>\n",
       "      <td>40-49</td>\n",
       "      <td>premeno</td>\n",
       "      <td>30-34</td>\n",
       "      <td>3-5</td>\n",
       "      <td>yes</td>\n",
       "      <td>'2'</td>\n",
       "      <td>left</td>\n",
       "      <td>right_up</td>\n",
       "      <td>no</td>\n",
       "      <td>recurrence-events</td>\n",
       "    </tr>\n",
       "    <tr>\n",
       "      <th>5</th>\n",
       "      <td>50-59</td>\n",
       "      <td>premeno</td>\n",
       "      <td>25-29</td>\n",
       "      <td>3-5</td>\n",
       "      <td>no</td>\n",
       "      <td>'2'</td>\n",
       "      <td>right</td>\n",
       "      <td>left_up</td>\n",
       "      <td>yes</td>\n",
       "      <td>no-recurrence-events</td>\n",
       "    </tr>\n",
       "    <tr>\n",
       "      <th>6</th>\n",
       "      <td>50-59</td>\n",
       "      <td>ge40</td>\n",
       "      <td>40-44</td>\n",
       "      <td>0-2</td>\n",
       "      <td>no</td>\n",
       "      <td>'3'</td>\n",
       "      <td>left</td>\n",
       "      <td>left_up</td>\n",
       "      <td>no</td>\n",
       "      <td>no-recurrence-events</td>\n",
       "    </tr>\n",
       "    <tr>\n",
       "      <th>7</th>\n",
       "      <td>40-49</td>\n",
       "      <td>premeno</td>\n",
       "      <td>10-14</td>\n",
       "      <td>0-2</td>\n",
       "      <td>no</td>\n",
       "      <td>'2'</td>\n",
       "      <td>left</td>\n",
       "      <td>left_up</td>\n",
       "      <td>no</td>\n",
       "      <td>no-recurrence-events</td>\n",
       "    </tr>\n",
       "    <tr>\n",
       "      <th>8</th>\n",
       "      <td>40-49</td>\n",
       "      <td>premeno</td>\n",
       "      <td>0-4</td>\n",
       "      <td>0-2</td>\n",
       "      <td>no</td>\n",
       "      <td>'2'</td>\n",
       "      <td>right</td>\n",
       "      <td>right_low</td>\n",
       "      <td>no</td>\n",
       "      <td>no-recurrence-events</td>\n",
       "    </tr>\n",
       "    <tr>\n",
       "      <th>9</th>\n",
       "      <td>40-49</td>\n",
       "      <td>ge40</td>\n",
       "      <td>40-44</td>\n",
       "      <td>15-17</td>\n",
       "      <td>yes</td>\n",
       "      <td>'2'</td>\n",
       "      <td>right</td>\n",
       "      <td>left_up</td>\n",
       "      <td>yes</td>\n",
       "      <td>no-recurrence-events</td>\n",
       "    </tr>\n",
       "    <tr>\n",
       "      <th>10</th>\n",
       "      <td>50-59</td>\n",
       "      <td>premeno</td>\n",
       "      <td>25-29</td>\n",
       "      <td>0-2</td>\n",
       "      <td>no</td>\n",
       "      <td>'2'</td>\n",
       "      <td>left</td>\n",
       "      <td>left_low</td>\n",
       "      <td>no</td>\n",
       "      <td>no-recurrence-events</td>\n",
       "    </tr>\n",
       "    <tr>\n",
       "      <th>11</th>\n",
       "      <td>60-69</td>\n",
       "      <td>ge40</td>\n",
       "      <td>15-19</td>\n",
       "      <td>0-2</td>\n",
       "      <td>no</td>\n",
       "      <td>'2'</td>\n",
       "      <td>right</td>\n",
       "      <td>left_up</td>\n",
       "      <td>no</td>\n",
       "      <td>no-recurrence-events</td>\n",
       "    </tr>\n",
       "    <tr>\n",
       "      <th>12</th>\n",
       "      <td>50-59</td>\n",
       "      <td>ge40</td>\n",
       "      <td>30-34</td>\n",
       "      <td>0-2</td>\n",
       "      <td>no</td>\n",
       "      <td>'1'</td>\n",
       "      <td>right</td>\n",
       "      <td>central</td>\n",
       "      <td>no</td>\n",
       "      <td>no-recurrence-events</td>\n",
       "    </tr>\n",
       "    <tr>\n",
       "      <th>13</th>\n",
       "      <td>50-59</td>\n",
       "      <td>ge40</td>\n",
       "      <td>25-29</td>\n",
       "      <td>0-2</td>\n",
       "      <td>no</td>\n",
       "      <td>'2'</td>\n",
       "      <td>right</td>\n",
       "      <td>left_up</td>\n",
       "      <td>no</td>\n",
       "      <td>no-recurrence-events</td>\n",
       "    </tr>\n",
       "  </tbody>\n",
       "</table>\n",
       "</div>"
      ],
      "text/plain": [
       "    Idade Menopausa Tamanho do Tumor Número de nódulos com metástase  \\\n",
       "0   40-49   premeno            15-19                             0-2   \n",
       "1   50-59      ge40            15-19                             0-2   \n",
       "2   50-59      ge40            35-39                             0-2   \n",
       "3   40-49   premeno            35-39                             0-2   \n",
       "4   40-49   premeno            30-34                             3-5   \n",
       "5   50-59   premeno            25-29                             3-5   \n",
       "6   50-59      ge40            40-44                             0-2   \n",
       "7   40-49   premeno            10-14                             0-2   \n",
       "8   40-49   premeno              0-4                             0-2   \n",
       "9   40-49      ge40            40-44                           15-17   \n",
       "10  50-59   premeno            25-29                             0-2   \n",
       "11  60-69      ge40            15-19                             0-2   \n",
       "12  50-59      ge40            30-34                             0-2   \n",
       "13  50-59      ge40            25-29                             0-2   \n",
       "\n",
       "   Nódulo realmente teve metástase Grau de malignidade   Mama  Quadrante  \\\n",
       "0                              yes                 '3'  right    left_up   \n",
       "1                               no                 '1'  right    central   \n",
       "2                               no                 '2'   left   left_low   \n",
       "3                              yes                 '3'  right   left_low   \n",
       "4                              yes                 '2'   left   right_up   \n",
       "5                               no                 '2'  right    left_up   \n",
       "6                               no                 '3'   left    left_up   \n",
       "7                               no                 '2'   left    left_up   \n",
       "8                               no                 '2'  right  right_low   \n",
       "9                              yes                 '2'  right    left_up   \n",
       "10                              no                 '2'   left   left_low   \n",
       "11                              no                 '2'  right    left_up   \n",
       "12                              no                 '1'  right    central   \n",
       "13                              no                 '2'  right    left_up   \n",
       "\n",
       "   Tratamento                Classe  \n",
       "0          no     recurrence-events  \n",
       "1          no  no-recurrence-events  \n",
       "2          no     recurrence-events  \n",
       "3         yes  no-recurrence-events  \n",
       "4          no     recurrence-events  \n",
       "5         yes  no-recurrence-events  \n",
       "6          no  no-recurrence-events  \n",
       "7          no  no-recurrence-events  \n",
       "8          no  no-recurrence-events  \n",
       "9         yes  no-recurrence-events  \n",
       "10         no  no-recurrence-events  \n",
       "11         no  no-recurrence-events  \n",
       "12         no  no-recurrence-events  \n",
       "13         no  no-recurrence-events  "
      ]
     },
     "execution_count": 6,
     "metadata": {},
     "output_type": "execute_result"
    }
   ],
   "source": [
    "data = Read_Data('cancer_breast.csv', 'csv') # read a dataset example \n",
    "DT_2 = DecisionTree('Info_Gain') # instanciate a Decision Tree class\n",
    "DT_2.Train(data = data) # Train the Tree\n",
    "DT_2.visualize_region() # visualize\n",
    "DT_2.predict(data.iloc[13,]) # example of predict the class of a new sample \n",
    "data"
   ]
  },
  {
   "cell_type": "code",
   "execution_count": 7,
   "metadata": {},
   "outputs": [
    {
     "name": "stdout",
     "output_type": "stream",
     "text": [
      ":... Nódulo realmente teve metástase = no: \n",
      "  :... Mama = left: \n",
      "    :... Tamanho do Tumor = 10-14: no-recurrence-events\n",
      "    :... Tamanho do Tumor = 25-29: no-recurrence-events\n",
      "    :... Tamanho do Tumor = 35-39: recurrence-events\n",
      "    :... Tamanho do Tumor = 40-44: no-recurrence-events\n",
      "  :... Mama = right: no-recurrence-events\n",
      ":... Nódulo realmente teve metástase = yes: \n",
      "  :... Tratamento = no: recurrence-events\n",
      "  :... Tratamento = yes: no-recurrence-events\n"
     ]
    },
    {
     "data": {
      "image/png": "[encoded data removed]",
      "text/plain": [
       "<Figure size 432x288 with 1 Axes>"
      ]
     },
     "metadata": {
      "needs_background": "light"
     },
     "output_type": "display_data"
    },
    {
     "name": "stdout",
     "output_type": "stream",
     "text": [
      "A classe é no-recurrence-events\n"
     ]
    },
    {
     "data": {
      "text/plain": [
       "'no-recurrence-events'"
      ]
     },
     "execution_count": 7,
     "metadata": {},
     "output_type": "execute_result"
    }
   ],
   "source": [
    "data = Read_Data('cancer_breast.csv', 'csv') # read a dataset example \n",
    "DT_2 = DecisionTree('Gain_ratio') # instanciate a Decision Tree class\n",
    "DT_2.Train(data = data) # Train the Tree\n",
    "DT_2.visualize_region() # visualize\n",
    "DT_2.predict(data.iloc[13,]) # example of predict the class of a new sample "
   ]
  },
  {
   "cell_type": "markdown",
   "metadata": {},
   "source": [
    "![green-divider](https://user-images.githubusercontent.com/7065401/52071924-c003ad80-2562-11e9-8297-1c6595f8a7ff.png)\n",
    "### 3. Testing the Decision Tree Class:\n",
    "<blockquote>\n",
    "    Dataset: balance-scale\n",
    "</blockquote>"
   ]
  },
  {
   "cell_type": "code",
   "execution_count": 8,
   "metadata": {},
   "outputs": [
    {
     "name": "stdout",
     "output_type": "stream",
     "text": [
      ":... Right-Distance = '1': \n",
      "  :... Right-Weight = '1': B\n",
      "  :... Right-Weight = '2': R\n",
      "  :... Right-Weight = '3': R\n",
      ":... Right-Distance = '2': R\n",
      ":... Right-Distance = '3': R\n",
      ":... Right-Distance = '4': R\n",
      ":... Right-Distance = '5': R\n"
     ]
    },
    {
     "data": {
      "image/png": "[encoded data removed]",
      "text/plain": [
       "<Figure size 432x288 with 1 Axes>"
      ]
     },
     "metadata": {
      "needs_background": "light"
     },
     "output_type": "display_data"
    },
    {
     "name": "stdout",
     "output_type": "stream",
     "text": [
      "A classe é R\n"
     ]
    },
    {
     "data": {
      "text/html": [
       "<div>\n",
       "<style scoped>\n",
       "    .dataframe tbody tr th:only-of-type {\n",
       "        vertical-align: middle;\n",
       "    }\n",
       "\n",
       "    .dataframe tbody tr th {\n",
       "        vertical-align: top;\n",
       "    }\n",
       "\n",
       "    .dataframe thead th {\n",
       "        text-align: right;\n",
       "    }\n",
       "</style>\n",
       "<table border=\"1\" class=\"dataframe\">\n",
       "  <thead>\n",
       "    <tr style=\"text-align: right;\">\n",
       "      <th></th>\n",
       "      <th>Left-Weight</th>\n",
       "      <th>Left-Distance</th>\n",
       "      <th>Right-Weight</th>\n",
       "      <th>Right-Distance</th>\n",
       "      <th>Class Name</th>\n",
       "    </tr>\n",
       "  </thead>\n",
       "  <tbody>\n",
       "    <tr>\n",
       "      <th>0</th>\n",
       "      <td>'1'</td>\n",
       "      <td>'1'</td>\n",
       "      <td>'1'</td>\n",
       "      <td>'1'</td>\n",
       "      <td>B</td>\n",
       "    </tr>\n",
       "    <tr>\n",
       "      <th>1</th>\n",
       "      <td>'1'</td>\n",
       "      <td>'1'</td>\n",
       "      <td>'1'</td>\n",
       "      <td>'2'</td>\n",
       "      <td>R</td>\n",
       "    </tr>\n",
       "    <tr>\n",
       "      <th>2</th>\n",
       "      <td>'1'</td>\n",
       "      <td>'1'</td>\n",
       "      <td>'1'</td>\n",
       "      <td>'3'</td>\n",
       "      <td>R</td>\n",
       "    </tr>\n",
       "    <tr>\n",
       "      <th>3</th>\n",
       "      <td>'1'</td>\n",
       "      <td>'1'</td>\n",
       "      <td>'1'</td>\n",
       "      <td>'4'</td>\n",
       "      <td>R</td>\n",
       "    </tr>\n",
       "    <tr>\n",
       "      <th>4</th>\n",
       "      <td>'1'</td>\n",
       "      <td>'1'</td>\n",
       "      <td>'1'</td>\n",
       "      <td>'5'</td>\n",
       "      <td>R</td>\n",
       "    </tr>\n",
       "    <tr>\n",
       "      <th>5</th>\n",
       "      <td>'1'</td>\n",
       "      <td>'1'</td>\n",
       "      <td>'2'</td>\n",
       "      <td>'1'</td>\n",
       "      <td>R</td>\n",
       "    </tr>\n",
       "    <tr>\n",
       "      <th>6</th>\n",
       "      <td>'1'</td>\n",
       "      <td>'1'</td>\n",
       "      <td>'2'</td>\n",
       "      <td>'2'</td>\n",
       "      <td>R</td>\n",
       "    </tr>\n",
       "    <tr>\n",
       "      <th>7</th>\n",
       "      <td>'1'</td>\n",
       "      <td>'1'</td>\n",
       "      <td>'2'</td>\n",
       "      <td>'3'</td>\n",
       "      <td>R</td>\n",
       "    </tr>\n",
       "    <tr>\n",
       "      <th>8</th>\n",
       "      <td>'1'</td>\n",
       "      <td>'1'</td>\n",
       "      <td>'2'</td>\n",
       "      <td>'4'</td>\n",
       "      <td>R</td>\n",
       "    </tr>\n",
       "    <tr>\n",
       "      <th>9</th>\n",
       "      <td>'1'</td>\n",
       "      <td>'1'</td>\n",
       "      <td>'2'</td>\n",
       "      <td>'5'</td>\n",
       "      <td>R</td>\n",
       "    </tr>\n",
       "    <tr>\n",
       "      <th>10</th>\n",
       "      <td>'1'</td>\n",
       "      <td>'1'</td>\n",
       "      <td>'3'</td>\n",
       "      <td>'1'</td>\n",
       "      <td>R</td>\n",
       "    </tr>\n",
       "    <tr>\n",
       "      <th>11</th>\n",
       "      <td>'1'</td>\n",
       "      <td>'1'</td>\n",
       "      <td>'3'</td>\n",
       "      <td>'2'</td>\n",
       "      <td>R</td>\n",
       "    </tr>\n",
       "    <tr>\n",
       "      <th>12</th>\n",
       "      <td>'1'</td>\n",
       "      <td>'1'</td>\n",
       "      <td>'3'</td>\n",
       "      <td>'3'</td>\n",
       "      <td>R</td>\n",
       "    </tr>\n",
       "    <tr>\n",
       "      <th>13</th>\n",
       "      <td>'1'</td>\n",
       "      <td>'1'</td>\n",
       "      <td>'3'</td>\n",
       "      <td>'4'</td>\n",
       "      <td>R</td>\n",
       "    </tr>\n",
       "    <tr>\n",
       "      <th>14</th>\n",
       "      <td>'1'</td>\n",
       "      <td>'1'</td>\n",
       "      <td>'3'</td>\n",
       "      <td>'5'</td>\n",
       "      <td>R</td>\n",
       "    </tr>\n",
       "  </tbody>\n",
       "</table>\n",
       "</div>"
      ],
      "text/plain": [
       "   Left-Weight  Left-Distance Right-Weight Right-Distance Class Name\n",
       "0          '1'            '1'          '1'            '1'          B\n",
       "1          '1'            '1'          '1'            '2'          R\n",
       "2          '1'            '1'          '1'            '3'          R\n",
       "3          '1'            '1'          '1'            '4'          R\n",
       "4          '1'            '1'          '1'            '5'          R\n",
       "5          '1'            '1'          '2'            '1'          R\n",
       "6          '1'            '1'          '2'            '2'          R\n",
       "7          '1'            '1'          '2'            '3'          R\n",
       "8          '1'            '1'          '2'            '4'          R\n",
       "9          '1'            '1'          '2'            '5'          R\n",
       "10         '1'            '1'          '3'            '1'          R\n",
       "11         '1'            '1'          '3'            '2'          R\n",
       "12         '1'            '1'          '3'            '3'          R\n",
       "13         '1'            '1'          '3'            '4'          R\n",
       "14         '1'            '1'          '3'            '5'          R"
      ]
     },
     "execution_count": 8,
     "metadata": {},
     "output_type": "execute_result"
    }
   ],
   "source": [
    "data = Read_Data('balance-scale_data.csv', 'csv') # read a dataset example \n",
    "\n",
    "DT_3 = DecisionTree('Info_Gain') # instanciate a Decision Tree class\n",
    "DT_3.Train(data = data) # Train the Tree\n",
    "DT_3.visualize_region() # visualize\n",
    "DT_3.predict(data.iloc[13,]) # example of predict the class of a new sample \n",
    "data.iloc[13,]\n",
    "data"
   ]
  },
  {
   "cell_type": "code",
   "execution_count": 9,
   "metadata": {},
   "outputs": [
    {
     "name": "stdout",
     "output_type": "stream",
     "text": [
      ":... Left-Weight = '1': \n",
      "  :...  Left-Distance = '1': \n",
      "    :... Right-Distance = '1': \n",
      "      :... Right-Weight = '1': B\n",
      "      :... Right-Weight = '2': R\n",
      "      :... Right-Weight = '3': R\n",
      "    :... Right-Distance = '2': R\n",
      "    :... Right-Distance = '3': R\n",
      "    :... Right-Distance = '4': R\n",
      "    :... Right-Distance = '5': R\n"
     ]
    },
    {
     "name": "stderr",
     "output_type": "stream",
     "text": [
      "/home/rafael/.local/lib/python3.6/site-packages/ipykernel_launcher.py:112: RuntimeWarning: invalid value encountered in double_scalars\n"
     ]
    },
    {
     "data": {
      "image/png": "[encoded data removed]",
      "text/plain": [
       "<Figure size 432x288 with 1 Axes>"
      ]
     },
     "metadata": {
      "needs_background": "light"
     },
     "output_type": "display_data"
    },
    {
     "name": "stdout",
     "output_type": "stream",
     "text": [
      "A classe é R\n"
     ]
    },
    {
     "data": {
      "text/plain": [
       "Left-Weight       '1'\n",
       " Left-Distance    '1'\n",
       "Right-Weight      '3'\n",
       "Right-Distance    '4'\n",
       "Class Name          R\n",
       "Name: 13, dtype: object"
      ]
     },
     "execution_count": 9,
     "metadata": {},
     "output_type": "execute_result"
    }
   ],
   "source": [
    "data = Read_Data('balance-scale_data.csv', 'csv') # read a dataset example \n",
    "\n",
    "DT_3 = DecisionTree('Gain_ratio') # instanciate a Decision Tree class\n",
    "DT_3.Train(data = data) # Train the Tree\n",
    "DT_3.visualize_region() # visualize\n",
    "DT_3.predict(data.iloc[13,]) # example of predict the class of a new sample \n",
    "data.iloc[13,]"
   ]
  },
  {
   "cell_type": "markdown",
   "metadata": {},
   "source": [
    "![green-divider](https://user-images.githubusercontent.com/7065401/52071924-c003ad80-2562-11e9-8297-1c6595f8a7ff.png)\n",
    "### 3. Testing the Decision Tree Class:\n",
    "<blockquote>\n",
    "    Dataset: baloon\n",
    "</blockquote>"
   ]
  },
  {
   "cell_type": "code",
   "execution_count": 10,
   "metadata": {},
   "outputs": [
    {
     "name": "stdout",
     "output_type": "stream",
     "text": [
      ":... act = DIP: F\n",
      ":... act = STRETCH: \n",
      "  :... age = ADULT: T\n",
      "  :... age = CHILD: F\n"
     ]
    },
    {
     "data": {
      "image/png": "[encoded data removed]",
      "text/plain": [
       "<Figure size 432x288 with 1 Axes>"
      ]
     },
     "metadata": {
      "needs_background": "light"
     },
     "output_type": "display_data"
    },
    {
     "name": "stdout",
     "output_type": "stream",
     "text": [
      "A classe é F\n"
     ]
    },
    {
     "data": {
      "text/html": [
       "<div>\n",
       "<style scoped>\n",
       "    .dataframe tbody tr th:only-of-type {\n",
       "        vertical-align: middle;\n",
       "    }\n",
       "\n",
       "    .dataframe tbody tr th {\n",
       "        vertical-align: top;\n",
       "    }\n",
       "\n",
       "    .dataframe thead th {\n",
       "        text-align: right;\n",
       "    }\n",
       "</style>\n",
       "<table border=\"1\" class=\"dataframe\">\n",
       "  <thead>\n",
       "    <tr style=\"text-align: right;\">\n",
       "      <th></th>\n",
       "      <th>Color</th>\n",
       "      <th>size</th>\n",
       "      <th>act</th>\n",
       "      <th>age</th>\n",
       "      <th>inflated</th>\n",
       "    </tr>\n",
       "  </thead>\n",
       "  <tbody>\n",
       "    <tr>\n",
       "      <th>0</th>\n",
       "      <td>YELLOW</td>\n",
       "      <td>SMALL</td>\n",
       "      <td>STRETCH</td>\n",
       "      <td>ADULT</td>\n",
       "      <td>T</td>\n",
       "    </tr>\n",
       "    <tr>\n",
       "      <th>1</th>\n",
       "      <td>YELLOW</td>\n",
       "      <td>SMALL</td>\n",
       "      <td>STRETCH</td>\n",
       "      <td>ADULT</td>\n",
       "      <td>T</td>\n",
       "    </tr>\n",
       "    <tr>\n",
       "      <th>2</th>\n",
       "      <td>YELLOW</td>\n",
       "      <td>SMALL</td>\n",
       "      <td>STRETCH</td>\n",
       "      <td>CHILD</td>\n",
       "      <td>F</td>\n",
       "    </tr>\n",
       "    <tr>\n",
       "      <th>3</th>\n",
       "      <td>YELLOW</td>\n",
       "      <td>SMALL</td>\n",
       "      <td>DIP</td>\n",
       "      <td>ADULT</td>\n",
       "      <td>F</td>\n",
       "    </tr>\n",
       "    <tr>\n",
       "      <th>4</th>\n",
       "      <td>YELLOW</td>\n",
       "      <td>SMALL</td>\n",
       "      <td>DIP</td>\n",
       "      <td>CHILD</td>\n",
       "      <td>F</td>\n",
       "    </tr>\n",
       "    <tr>\n",
       "      <th>5</th>\n",
       "      <td>YELLOW</td>\n",
       "      <td>LARGE</td>\n",
       "      <td>STRETCH</td>\n",
       "      <td>ADULT</td>\n",
       "      <td>T</td>\n",
       "    </tr>\n",
       "    <tr>\n",
       "      <th>6</th>\n",
       "      <td>YELLOW</td>\n",
       "      <td>LARGE</td>\n",
       "      <td>STRETCH</td>\n",
       "      <td>ADULT</td>\n",
       "      <td>T</td>\n",
       "    </tr>\n",
       "    <tr>\n",
       "      <th>7</th>\n",
       "      <td>YELLOW</td>\n",
       "      <td>LARGE</td>\n",
       "      <td>STRETCH</td>\n",
       "      <td>CHILD</td>\n",
       "      <td>F</td>\n",
       "    </tr>\n",
       "    <tr>\n",
       "      <th>8</th>\n",
       "      <td>YELLOW</td>\n",
       "      <td>LARGE</td>\n",
       "      <td>DIP</td>\n",
       "      <td>ADULT</td>\n",
       "      <td>F</td>\n",
       "    </tr>\n",
       "    <tr>\n",
       "      <th>9</th>\n",
       "      <td>YELLOW</td>\n",
       "      <td>LARGE</td>\n",
       "      <td>DIP</td>\n",
       "      <td>CHILD</td>\n",
       "      <td>F</td>\n",
       "    </tr>\n",
       "    <tr>\n",
       "      <th>10</th>\n",
       "      <td>PURPLE</td>\n",
       "      <td>SMALL</td>\n",
       "      <td>STRETCH</td>\n",
       "      <td>ADULT</td>\n",
       "      <td>T</td>\n",
       "    </tr>\n",
       "    <tr>\n",
       "      <th>11</th>\n",
       "      <td>PURPLE</td>\n",
       "      <td>SMALL</td>\n",
       "      <td>STRETCH</td>\n",
       "      <td>ADULT</td>\n",
       "      <td>T</td>\n",
       "    </tr>\n",
       "    <tr>\n",
       "      <th>12</th>\n",
       "      <td>PURPLE</td>\n",
       "      <td>SMALL</td>\n",
       "      <td>STRETCH</td>\n",
       "      <td>CHILD</td>\n",
       "      <td>F</td>\n",
       "    </tr>\n",
       "    <tr>\n",
       "      <th>13</th>\n",
       "      <td>PURPLE</td>\n",
       "      <td>SMALL</td>\n",
       "      <td>DIP</td>\n",
       "      <td>ADULT</td>\n",
       "      <td>F</td>\n",
       "    </tr>\n",
       "    <tr>\n",
       "      <th>14</th>\n",
       "      <td>PURPLE</td>\n",
       "      <td>SMALL</td>\n",
       "      <td>DIP</td>\n",
       "      <td>CHILD</td>\n",
       "      <td>F</td>\n",
       "    </tr>\n",
       "    <tr>\n",
       "      <th>15</th>\n",
       "      <td>PURPLE</td>\n",
       "      <td>LARGE</td>\n",
       "      <td>STRETCH</td>\n",
       "      <td>ADULT</td>\n",
       "      <td>T</td>\n",
       "    </tr>\n",
       "    <tr>\n",
       "      <th>16</th>\n",
       "      <td>PURPLE</td>\n",
       "      <td>LARGE</td>\n",
       "      <td>STRETCH</td>\n",
       "      <td>ADULT</td>\n",
       "      <td>T</td>\n",
       "    </tr>\n",
       "    <tr>\n",
       "      <th>17</th>\n",
       "      <td>PURPLE</td>\n",
       "      <td>LARGE</td>\n",
       "      <td>STRETCH</td>\n",
       "      <td>CHILD</td>\n",
       "      <td>F</td>\n",
       "    </tr>\n",
       "    <tr>\n",
       "      <th>18</th>\n",
       "      <td>PURPLE</td>\n",
       "      <td>LARGE</td>\n",
       "      <td>DIP</td>\n",
       "      <td>ADULT</td>\n",
       "      <td>F</td>\n",
       "    </tr>\n",
       "    <tr>\n",
       "      <th>19</th>\n",
       "      <td>PURPLE</td>\n",
       "      <td>LARGE</td>\n",
       "      <td>DIP</td>\n",
       "      <td>CHILD</td>\n",
       "      <td>F</td>\n",
       "    </tr>\n",
       "  </tbody>\n",
       "</table>\n",
       "</div>"
      ],
      "text/plain": [
       "     Color   size      act    age inflated\n",
       "0   YELLOW  SMALL  STRETCH  ADULT        T\n",
       "1   YELLOW  SMALL  STRETCH  ADULT        T\n",
       "2   YELLOW  SMALL  STRETCH  CHILD        F\n",
       "3   YELLOW  SMALL      DIP  ADULT        F\n",
       "4   YELLOW  SMALL      DIP  CHILD        F\n",
       "5   YELLOW  LARGE  STRETCH  ADULT        T\n",
       "6   YELLOW  LARGE  STRETCH  ADULT        T\n",
       "7   YELLOW  LARGE  STRETCH  CHILD        F\n",
       "8   YELLOW  LARGE      DIP  ADULT        F\n",
       "9   YELLOW  LARGE      DIP  CHILD        F\n",
       "10  PURPLE  SMALL  STRETCH  ADULT        T\n",
       "11  PURPLE  SMALL  STRETCH  ADULT        T\n",
       "12  PURPLE  SMALL  STRETCH  CHILD        F\n",
       "13  PURPLE  SMALL      DIP  ADULT        F\n",
       "14  PURPLE  SMALL      DIP  CHILD        F\n",
       "15  PURPLE  LARGE  STRETCH  ADULT        T\n",
       "16  PURPLE  LARGE  STRETCH  ADULT        T\n",
       "17  PURPLE  LARGE  STRETCH  CHILD        F\n",
       "18  PURPLE  LARGE      DIP  ADULT        F\n",
       "19  PURPLE  LARGE      DIP  CHILD        F"
      ]
     },
     "execution_count": 10,
     "metadata": {},
     "output_type": "execute_result"
    }
   ],
   "source": [
    "data = Read_Data('baloon_data.csv', 'csv') # read a dataset example \n",
    "\n",
    "DT_4 = DecisionTree('Info_Gain') # instanciate a Decision Tree class\n",
    "DT_4.Train(data = data) # Train the Tree\n",
    "DT_4.visualize_region() # visualize\n",
    "DT_4.predict(data.iloc[13,]) # example of predict the class of a new sample \n",
    "data.iloc[13,]\n",
    "data"
   ]
  },
  {
   "cell_type": "code",
   "execution_count": 11,
   "metadata": {},
   "outputs": [
    {
     "name": "stdout",
     "output_type": "stream",
     "text": [
      ":... act = DIP: F\n",
      ":... act = STRETCH: \n",
      "  :... age = ADULT: T\n",
      "  :... age = CHILD: F\n"
     ]
    },
    {
     "data": {
      "image/png": "[encoded data removed]",
      "text/plain": [
       "<Figure size 432x288 with 1 Axes>"
      ]
     },
     "metadata": {
      "needs_background": "light"
     },
     "output_type": "display_data"
    },
    {
     "name": "stdout",
     "output_type": "stream",
     "text": [
      "A classe é F\n"
     ]
    },
    {
     "data": {
      "text/plain": [
       "Color       PURPLE\n",
       "size         SMALL\n",
       "act            DIP\n",
       "age          ADULT\n",
       "inflated         F\n",
       "Name: 13, dtype: object"
      ]
     },
     "execution_count": 11,
     "metadata": {},
     "output_type": "execute_result"
    }
   ],
   "source": [
    "data = Read_Data('baloon_data.csv', 'csv') # read a dataset example \n",
    "\n",
    "DT_4 = DecisionTree('Gain_ratio') # instanciate a Decision Tree class\n",
    "DT_4.Train(data = data) # Train the Tree\n",
    "DT_4.visualize_region() # visualize\n",
    "DT_4.predict(data.iloc[13,]) # example of predict the class of a new sample \n",
    "data.iloc[13,]"
   ]
  },
  {
   "cell_type": "markdown",
   "metadata": {},
   "source": [
    "![green-divider](https://user-images.githubusercontent.com/7065401/52071924-c003ad80-2562-11e9-8297-1c6595f8a7ff.png)\n",
    "### 3. Testing the Decision Tree Class:\n",
    "<blockquote>\n",
    "    Dataset: Lenses\n",
    "</blockquote>"
   ]
  },
  {
   "cell_type": "code",
   "execution_count": 12,
   "metadata": {},
   "outputs": [
    {
     "name": "stdout",
     "output_type": "stream",
     "text": [
      ":... tear production rate = normal: \n",
      "  :... age of the patient = pre-presbyopic: \n",
      "    :... spectacle prescription = hypermetrope: the patient should not be fitted with contact lenses\n",
      "    :... spectacle prescription = myope: the patient should be fitted with hard contact lenses\n",
      "  :... age of the patient = presbyopic: \n",
      "    :... spectacle prescription = hypermetrope: the patient should not be fitted with contact lenses\n",
      "    :... spectacle prescription = myope: \n",
      "      :... astigmatic = no: the patient should not be fitted with contact lenses\n",
      "      :... astigmatic = yes: the patient should be fitted with hard contact lenses\n",
      "  :... age of the patient = young: the patient should be fitted with hard contact lenses\n",
      ":... tear production rate = normalthe : patient should be fitted with soft contact lenses\n",
      ":... tear production rate = reduced: the patient should not be fitted with contact lenses\n"
     ]
    },
    {
     "data": {
      "image/png": "[encoded data removed]",
      "text/plain": [
       "<Figure size 432x288 with 1 Axes>"
      ]
     },
     "metadata": {
      "needs_background": "light"
     },
     "output_type": "display_data"
    },
    {
     "name": "stdout",
     "output_type": "stream",
     "text": [
      "A classe é patient should be fitted with soft contact lenses\n"
     ]
    },
    {
     "data": {
      "text/html": [
       "<div>\n",
       "<style scoped>\n",
       "    .dataframe tbody tr th:only-of-type {\n",
       "        vertical-align: middle;\n",
       "    }\n",
       "\n",
       "    .dataframe tbody tr th {\n",
       "        vertical-align: top;\n",
       "    }\n",
       "\n",
       "    .dataframe thead th {\n",
       "        text-align: right;\n",
       "    }\n",
       "</style>\n",
       "<table border=\"1\" class=\"dataframe\">\n",
       "  <thead>\n",
       "    <tr style=\"text-align: right;\">\n",
       "      <th></th>\n",
       "      <th>age of the patient</th>\n",
       "      <th>spectacle prescription</th>\n",
       "      <th>astigmatic</th>\n",
       "      <th>tear production rate</th>\n",
       "      <th>Class</th>\n",
       "    </tr>\n",
       "  </thead>\n",
       "  <tbody>\n",
       "    <tr>\n",
       "      <th>0</th>\n",
       "      <td>young</td>\n",
       "      <td>myope</td>\n",
       "      <td>no</td>\n",
       "      <td>reduced</td>\n",
       "      <td>the patient should not be fitted with contact ...</td>\n",
       "    </tr>\n",
       "    <tr>\n",
       "      <th>1</th>\n",
       "      <td>young</td>\n",
       "      <td>myope</td>\n",
       "      <td>no</td>\n",
       "      <td>normalthe</td>\n",
       "      <td>patient should be fitted with soft contact lenses</td>\n",
       "    </tr>\n",
       "    <tr>\n",
       "      <th>2</th>\n",
       "      <td>young</td>\n",
       "      <td>myope</td>\n",
       "      <td>yes</td>\n",
       "      <td>reduced</td>\n",
       "      <td>the patient should not be fitted with contact ...</td>\n",
       "    </tr>\n",
       "    <tr>\n",
       "      <th>3</th>\n",
       "      <td>young</td>\n",
       "      <td>myope</td>\n",
       "      <td>yes</td>\n",
       "      <td>normal</td>\n",
       "      <td>the patient should be fitted with hard contact...</td>\n",
       "    </tr>\n",
       "    <tr>\n",
       "      <th>4</th>\n",
       "      <td>young</td>\n",
       "      <td>hypermetrope</td>\n",
       "      <td>no</td>\n",
       "      <td>reduced</td>\n",
       "      <td>the patient should not be fitted with contact ...</td>\n",
       "    </tr>\n",
       "    <tr>\n",
       "      <th>5</th>\n",
       "      <td>young</td>\n",
       "      <td>hypermetrope</td>\n",
       "      <td>no</td>\n",
       "      <td>normalthe</td>\n",
       "      <td>patient should be fitted with soft contact lenses</td>\n",
       "    </tr>\n",
       "    <tr>\n",
       "      <th>6</th>\n",
       "      <td>young</td>\n",
       "      <td>hypermetrope</td>\n",
       "      <td>yes</td>\n",
       "      <td>reduced</td>\n",
       "      <td>the patient should not be fitted with contact ...</td>\n",
       "    </tr>\n",
       "    <tr>\n",
       "      <th>7</th>\n",
       "      <td>young</td>\n",
       "      <td>hypermetrope</td>\n",
       "      <td>yes</td>\n",
       "      <td>normal</td>\n",
       "      <td>the patient should be fitted with hard contact...</td>\n",
       "    </tr>\n",
       "    <tr>\n",
       "      <th>8</th>\n",
       "      <td>pre-presbyopic</td>\n",
       "      <td>myope</td>\n",
       "      <td>no</td>\n",
       "      <td>reduced</td>\n",
       "      <td>the patient should not be fitted with contact ...</td>\n",
       "    </tr>\n",
       "    <tr>\n",
       "      <th>9</th>\n",
       "      <td>pre-presbyopic</td>\n",
       "      <td>myope</td>\n",
       "      <td>no</td>\n",
       "      <td>normalthe</td>\n",
       "      <td>patient should be fitted with soft contact lenses</td>\n",
       "    </tr>\n",
       "    <tr>\n",
       "      <th>10</th>\n",
       "      <td>pre-presbyopic</td>\n",
       "      <td>myope</td>\n",
       "      <td>yes</td>\n",
       "      <td>reduced</td>\n",
       "      <td>the patient should not be fitted with contact ...</td>\n",
       "    </tr>\n",
       "    <tr>\n",
       "      <th>11</th>\n",
       "      <td>pre-presbyopic</td>\n",
       "      <td>myope</td>\n",
       "      <td>yes</td>\n",
       "      <td>normal</td>\n",
       "      <td>the patient should be fitted with hard contact...</td>\n",
       "    </tr>\n",
       "    <tr>\n",
       "      <th>12</th>\n",
       "      <td>pre-presbyopic</td>\n",
       "      <td>hypermetrope</td>\n",
       "      <td>no</td>\n",
       "      <td>reduced</td>\n",
       "      <td>the patient should not be fitted with contact ...</td>\n",
       "    </tr>\n",
       "    <tr>\n",
       "      <th>13</th>\n",
       "      <td>pre-presbyopic</td>\n",
       "      <td>hypermetrope</td>\n",
       "      <td>no</td>\n",
       "      <td>normalthe</td>\n",
       "      <td>patient should be fitted with soft contact lenses</td>\n",
       "    </tr>\n",
       "    <tr>\n",
       "      <th>14</th>\n",
       "      <td>pre-presbyopic</td>\n",
       "      <td>hypermetrope</td>\n",
       "      <td>yes</td>\n",
       "      <td>reduced</td>\n",
       "      <td>the patient should not be fitted with contact ...</td>\n",
       "    </tr>\n",
       "    <tr>\n",
       "      <th>15</th>\n",
       "      <td>pre-presbyopic</td>\n",
       "      <td>hypermetrope</td>\n",
       "      <td>yes</td>\n",
       "      <td>normal</td>\n",
       "      <td>the patient should not be fitted with contact ...</td>\n",
       "    </tr>\n",
       "    <tr>\n",
       "      <th>16</th>\n",
       "      <td>presbyopic</td>\n",
       "      <td>myope</td>\n",
       "      <td>no</td>\n",
       "      <td>reduced</td>\n",
       "      <td>the patient should not be fitted with contact ...</td>\n",
       "    </tr>\n",
       "    <tr>\n",
       "      <th>17</th>\n",
       "      <td>presbyopic</td>\n",
       "      <td>myope</td>\n",
       "      <td>no</td>\n",
       "      <td>normal</td>\n",
       "      <td>the patient should not be fitted with contact ...</td>\n",
       "    </tr>\n",
       "    <tr>\n",
       "      <th>18</th>\n",
       "      <td>presbyopic</td>\n",
       "      <td>myope</td>\n",
       "      <td>yes</td>\n",
       "      <td>reduced</td>\n",
       "      <td>the patient should not be fitted with contact ...</td>\n",
       "    </tr>\n",
       "    <tr>\n",
       "      <th>19</th>\n",
       "      <td>presbyopic</td>\n",
       "      <td>myope</td>\n",
       "      <td>yes</td>\n",
       "      <td>normal</td>\n",
       "      <td>the patient should be fitted with hard contact...</td>\n",
       "    </tr>\n",
       "    <tr>\n",
       "      <th>20</th>\n",
       "      <td>presbyopic</td>\n",
       "      <td>hypermetrope</td>\n",
       "      <td>no</td>\n",
       "      <td>reduced</td>\n",
       "      <td>the patient should not be fitted with contact ...</td>\n",
       "    </tr>\n",
       "    <tr>\n",
       "      <th>21</th>\n",
       "      <td>presbyopic</td>\n",
       "      <td>hypermetrope</td>\n",
       "      <td>no</td>\n",
       "      <td>normalthe</td>\n",
       "      <td>patient should be fitted with soft contact lenses</td>\n",
       "    </tr>\n",
       "    <tr>\n",
       "      <th>22</th>\n",
       "      <td>presbyopic</td>\n",
       "      <td>hypermetrope</td>\n",
       "      <td>yes</td>\n",
       "      <td>reduced</td>\n",
       "      <td>the patient should not be fitted with contact ...</td>\n",
       "    </tr>\n",
       "    <tr>\n",
       "      <th>23</th>\n",
       "      <td>presbyopic</td>\n",
       "      <td>hypermetrope</td>\n",
       "      <td>yes</td>\n",
       "      <td>normal</td>\n",
       "      <td>the patient should not be fitted with contact ...</td>\n",
       "    </tr>\n",
       "  </tbody>\n",
       "</table>\n",
       "</div>"
      ],
      "text/plain": [
       "   age of the patient spectacle prescription astigmatic tear production rate  \\\n",
       "0               young                  myope         no              reduced   \n",
       "1               young                  myope         no           normalthe    \n",
       "2               young                  myope        yes              reduced   \n",
       "3               young                  myope        yes               normal   \n",
       "4               young           hypermetrope         no              reduced   \n",
       "5               young           hypermetrope         no           normalthe    \n",
       "6               young           hypermetrope        yes              reduced   \n",
       "7               young           hypermetrope        yes               normal   \n",
       "8      pre-presbyopic                  myope         no              reduced   \n",
       "9      pre-presbyopic                  myope         no           normalthe    \n",
       "10     pre-presbyopic                  myope        yes              reduced   \n",
       "11     pre-presbyopic                  myope        yes               normal   \n",
       "12     pre-presbyopic           hypermetrope         no              reduced   \n",
       "13     pre-presbyopic           hypermetrope         no           normalthe    \n",
       "14     pre-presbyopic           hypermetrope        yes              reduced   \n",
       "15     pre-presbyopic           hypermetrope        yes               normal   \n",
       "16         presbyopic                  myope         no              reduced   \n",
       "17         presbyopic                  myope         no               normal   \n",
       "18         presbyopic                  myope        yes              reduced   \n",
       "19         presbyopic                  myope        yes               normal   \n",
       "20         presbyopic           hypermetrope         no              reduced   \n",
       "21         presbyopic           hypermetrope         no           normalthe    \n",
       "22         presbyopic           hypermetrope        yes              reduced   \n",
       "23         presbyopic           hypermetrope        yes               normal   \n",
       "\n",
       "                                                Class  \n",
       "0   the patient should not be fitted with contact ...  \n",
       "1   patient should be fitted with soft contact lenses  \n",
       "2   the patient should not be fitted with contact ...  \n",
       "3   the patient should be fitted with hard contact...  \n",
       "4   the patient should not be fitted with contact ...  \n",
       "5   patient should be fitted with soft contact lenses  \n",
       "6   the patient should not be fitted with contact ...  \n",
       "7   the patient should be fitted with hard contact...  \n",
       "8   the patient should not be fitted with contact ...  \n",
       "9   patient should be fitted with soft contact lenses  \n",
       "10  the patient should not be fitted with contact ...  \n",
       "11  the patient should be fitted with hard contact...  \n",
       "12  the patient should not be fitted with contact ...  \n",
       "13  patient should be fitted with soft contact lenses  \n",
       "14  the patient should not be fitted with contact ...  \n",
       "15  the patient should not be fitted with contact ...  \n",
       "16  the patient should not be fitted with contact ...  \n",
       "17  the patient should not be fitted with contact ...  \n",
       "18  the patient should not be fitted with contact ...  \n",
       "19  the patient should be fitted with hard contact...  \n",
       "20  the patient should not be fitted with contact ...  \n",
       "21  patient should be fitted with soft contact lenses  \n",
       "22  the patient should not be fitted with contact ...  \n",
       "23  the patient should not be fitted with contact ...  "
      ]
     },
     "execution_count": 12,
     "metadata": {},
     "output_type": "execute_result"
    }
   ],
   "source": [
    "data = Read_Data('lenses_data.csv', 'csv') # read a dataset example \n",
    "\n",
    "DT_4 = DecisionTree('Info_Gain') # instanciate a Decision Tree class\n",
    "DT_4.Train(data = data) # Train the Tree\n",
    "DT_4.visualize_region() # visualize\n",
    "DT_4.predict(data.iloc[13,]) # example of predict the class of a new sample \n",
    "data.iloc[13,]\n",
    "data"
   ]
  },
  {
   "cell_type": "code",
   "execution_count": 13,
   "metadata": {},
   "outputs": [
    {
     "name": "stdout",
     "output_type": "stream",
     "text": [
      ":... tear production rate = normal: \n",
      "  :... age of the patient = pre-presbyopic: \n",
      "    :... spectacle prescription = hypermetrope: the patient should not be fitted with contact lenses\n",
      "    :... spectacle prescription = myope: the patient should be fitted with hard contact lenses\n",
      "  :... age of the patient = presbyopic: \n",
      "    :... spectacle prescription = hypermetrope: the patient should not be fitted with contact lenses\n",
      "    :... spectacle prescription = myope: \n",
      "      :... astigmatic = no: the patient should not be fitted with contact lenses\n",
      "      :... astigmatic = yes: the patient should be fitted with hard contact lenses\n",
      "  :... age of the patient = young: the patient should be fitted with hard contact lenses\n",
      ":... tear production rate = normalthe : patient should be fitted with soft contact lenses\n",
      ":... tear production rate = reduced: the patient should not be fitted with contact lenses\n"
     ]
    },
    {
     "data": {
      "image/png": "[encoded data removed]",
      "text/plain": [
       "<Figure size 432x288 with 1 Axes>"
      ]
     },
     "metadata": {
      "needs_background": "light"
     },
     "output_type": "display_data"
    },
    {
     "name": "stdout",
     "output_type": "stream",
     "text": [
      "A classe é patient should be fitted with soft contact lenses\n"
     ]
    },
    {
     "data": {
      "text/plain": [
       "age of the patient                                           pre-presbyopic\n",
       "spectacle prescription                                         hypermetrope\n",
       "astigmatic                                                               no\n",
       "tear production rate                                             normalthe \n",
       "Class                     patient should be fitted with soft contact lenses\n",
       "Name: 13, dtype: object"
      ]
     },
     "execution_count": 13,
     "metadata": {},
     "output_type": "execute_result"
    }
   ],
   "source": [
    "data = Read_Data('lenses_data.csv', 'csv') # read a dataset example \n",
    "\n",
    "DT_4 = DecisionTree('Gain_ratio') # instanciate a Decision Tree class\n",
    "DT_4.Train(data = data) # Train the Tree\n",
    "DT_4.visualize_region() # visualize\n",
    "DT_4.predict(data.iloc[13,]) # example of predict the class of a new sample \n",
    "data.iloc[13,]"
   ]
  },
  {
   "cell_type": "markdown",
   "metadata": {},
   "source": [
    "![green-divider](https://user-images.githubusercontent.com/7065401/52071924-c003ad80-2562-11e9-8297-1c6595f8a7ff.png)\n",
    "### 4. Comparing the Info_Gain and Gain_ratio:\n",
    "<blockquote>\n",
    "    Dataset: Jogar\n",
    "</blockquote>"
   ]
  },
  {
   "cell_type": "code",
   "execution_count": 14,
   "metadata": {},
   "outputs": [
    {
     "name": "stdout",
     "output_type": "stream",
     "text": [
      ":... Aparência  = chuva : \n",
      "  :... Ventando  = falso : sim\n",
      "  :... Ventando  = verdadeiro : não\n",
      ":... Aparência  = nublado : sim\n",
      ":... Aparência  = sol : \n",
      "  :... Temperatura  = agradável : não\n",
      "  :... Temperatura  = fria : sim\n",
      "  :... Temperatura  = quente : não\n"
     ]
    },
    {
     "data": {
      "image/png": "[encoded data removed]",
      "text/plain": [
       "<Figure size 432x288 with 1 Axes>"
      ]
     },
     "metadata": {
      "needs_background": "light"
     },
     "output_type": "display_data"
    },
    {
     "name": "stdout",
     "output_type": "stream",
     "text": [
      "A classe é não\n",
      "A classe é sim\n",
      "A classe é sim\n",
      "A classe é não\n"
     ]
    },
    {
     "data": {
      "image/png": "[encoded data removed]",
      "text/plain": [
       "<Figure size 432x288 with 2 Axes>"
      ]
     },
     "metadata": {
      "needs_background": "light"
     },
     "output_type": "display_data"
    }
   ],
   "source": [
    "# Info Gain\n",
    "data = Read_Data('lecture_data.csv', 'csv') # read a lecture example \n",
    "DT_teste_info = DecisionTree('Info_Gain') # instanciate a Decision Tree class\n",
    "train = int(data.shape[0] * 0.75)\n",
    "DT_teste_info.Train(data = data.iloc[0:train,:]) # Train the Tree\n",
    "DT_teste_info.visualize_region()\n",
    "confusion_matrix(data,data.iloc[train:data.shape[0],:], DT_teste_info)"
   ]
  },
  {
   "cell_type": "code",
   "execution_count": 15,
   "metadata": {},
   "outputs": [
    {
     "name": "stdout",
     "output_type": "stream",
     "text": [
      ":... Aparência  = chuva : \n",
      "  :... Ventando  = falso : sim\n",
      "  :... Ventando  = verdadeiro : não\n",
      ":... Aparência  = nublado : sim\n",
      ":... Aparência  = sol : \n",
      "  :... Umidade  = alta : não\n",
      "  :... Umidade  = normal : sim\n"
     ]
    },
    {
     "data": {
      "image/png": "[encoded data removed]",
      "text/plain": [
       "<Figure size 432x288 with 1 Axes>"
      ]
     },
     "metadata": {
      "needs_background": "light"
     },
     "output_type": "display_data"
    },
    {
     "name": "stdout",
     "output_type": "stream",
     "text": [
      "A classe é sim\n",
      "A classe é sim\n",
      "A classe é sim\n",
      "A classe é não\n"
     ]
    },
    {
     "data": {
      "image/png": "[encoded data removed]",
      "text/plain": [
       "<Figure size 432x288 with 2 Axes>"
      ]
     },
     "metadata": {
      "needs_background": "light"
     },
     "output_type": "display_data"
    }
   ],
   "source": [
    "# Gain ratio\n",
    "data = Read_Data('lecture_data.csv', 'csv') # read a lecture example \n",
    "DT_teste_ratio = DecisionTree('Gain_ratio') # instanciate a Decision Tree class\n",
    "train = int(data.shape[0] * 0.75)\n",
    "DT_teste_ratio.Train(data = data.iloc[0:train,:]) # Train the Tree\n",
    "DT_teste_ratio.visualize_region()\n",
    "confusion_matrix(data,data.iloc[train:data.shape[0],:], DT_teste_ratio)"
   ]
  },
  {
   "cell_type": "markdown",
   "metadata": {},
   "source": [
    "![green-divider](https://user-images.githubusercontent.com/7065401/52071924-c003ad80-2562-11e9-8297-1c6595f8a7ff.png)\n",
    "### 4. Comparing the Info_Gain and Gain_ratio:\n",
    "<blockquote>\n",
    "    Dataset: Cancer Breast\n",
    "</blockquote>"
   ]
  },
  {
   "cell_type": "code",
   "execution_count": 16,
   "metadata": {},
   "outputs": [
    {
     "name": "stdout",
     "output_type": "stream",
     "text": [
      ":... Tamanho do Tumor = 0-4: no-recurrence-events\n",
      ":... Tamanho do Tumor = 10-14: no-recurrence-events\n",
      ":... Tamanho do Tumor = 15-19: \n",
      "  :... Idade = 40-49: recurrence-events\n",
      "  :... Idade = 50-59: no-recurrence-events\n",
      ":... Tamanho do Tumor = 25-29: no-recurrence-events\n",
      ":... Tamanho do Tumor = 30-34: recurrence-events\n",
      ":... Tamanho do Tumor = 35-39: \n",
      "  :... Idade = 40-49: no-recurrence-events\n",
      "  :... Idade = 50-59: recurrence-events\n",
      ":... Tamanho do Tumor = 40-44: no-recurrence-events\n"
     ]
    },
    {
     "data": {
      "image/png": "[encoded data removed]",
      "text/plain": [
       "<Figure size 432x288 with 1 Axes>"
      ]
     },
     "metadata": {
      "needs_background": "light"
     },
     "output_type": "display_data"
    },
    {
     "name": "stdout",
     "output_type": "stream",
     "text": [
      "A classe é no-recurrence-events\n",
      "A classe é recurrence-events\n",
      "A classe é no-recurrence-events\n"
     ]
    },
    {
     "data": {
      "image/png": "[encoded data removed]",
      "text/plain": [
       "<Figure size 432x288 with 2 Axes>"
      ]
     },
     "metadata": {
      "needs_background": "light"
     },
     "output_type": "display_data"
    }
   ],
   "source": [
    "# Info Gain\n",
    "data = Read_Data('cancer_breast.csv', 'csv') # read a lecture example \n",
    "DT_teste_info_2 = DecisionTree('Info_Gain') # instanciate a Decision Tree class\n",
    "train = int(data.shape[0] * 0.75)\n",
    "DT_teste_info_2.Train(data = data.iloc[0:train,:]) # Train the Tree\n",
    "DT_teste_info_2.visualize_region()\n",
    "confusion_matrix(data,data.iloc[train:data.shape[0],:], DT_teste_info_2)"
   ]
  },
  {
   "cell_type": "code",
   "execution_count": 17,
   "metadata": {},
   "outputs": [
    {
     "name": "stdout",
     "output_type": "stream",
     "text": [
      ":... Tratamento = no: \n",
      "  :... Nódulo realmente teve metástase = no: \n",
      "    :... Quadrante = central: no-recurrence-events\n",
      "    :... Quadrante = left_low: recurrence-events\n",
      "    :... Quadrante = left_up: no-recurrence-events\n",
      "    :... Quadrante = right_low: no-recurrence-events\n",
      "  :... Nódulo realmente teve metástase = yes: recurrence-events\n",
      ":... Tratamento = yes: no-recurrence-events\n"
     ]
    },
    {
     "data": {
      "image/png": "[encoded data removed]",
      "text/plain": [
       "<Figure size 432x288 with 1 Axes>"
      ]
     },
     "metadata": {
      "needs_background": "light"
     },
     "output_type": "display_data"
    },
    {
     "name": "stdout",
     "output_type": "stream",
     "text": [
      "A classe é recurrence-events\n",
      "A classe é no-recurrence-events\n",
      "A classe é no-recurrence-events\n",
      "A classe é no-recurrence-events\n"
     ]
    },
    {
     "data": {
      "image/png": "[encoded data removed]",
      "text/plain": [
       "<Figure size 432x288 with 2 Axes>"
      ]
     },
     "metadata": {
      "needs_background": "light"
     },
     "output_type": "display_data"
    }
   ],
   "source": [
    "# Gain ratio\n",
    "data = Read_Data('cancer_breast.csv', 'csv') # read a lecture example \n",
    "DT_teste_ratio_2 = DecisionTree('Gain_ratio') # instanciate a Decision Tree class\n",
    "train = int(data.shape[0] * 0.75)\n",
    "DT_teste_ratio_2.Train(data = data.iloc[0:train,:]) # Train the Tree\n",
    "DT_teste_ratio_2.visualize_region()\n",
    "confusion_matrix(data,data.iloc[train:data.shape[0],:], DT_teste_ratio_2)"
   ]
  },
  {
   "cell_type": "markdown",
   "metadata": {},
   "source": [
    "![green-divider](https://user-images.githubusercontent.com/7065401/52071924-c003ad80-2562-11e9-8297-1c6595f8a7ff.png)\n",
    "### 4. Comparing the Info_Gain and Gain_ratio:\n",
    "<blockquote>\n",
    "    Dataset: balance-scale\n",
    "</blockquote>"
   ]
  },
  {
   "cell_type": "code",
   "execution_count": 18,
   "metadata": {},
   "outputs": [
    {
     "name": "stdout",
     "output_type": "stream",
     "text": [
      ":... Right-Distance = '1': \n",
      "  :... Right-Weight = '1': B\n",
      "  :... Right-Weight = '2': R\n",
      "  :... Right-Weight = '3': R\n",
      ":... Right-Distance = '2': R\n",
      ":... Right-Distance = '3': R\n",
      ":... Right-Distance = '4': R\n",
      ":... Right-Distance = '5': R\n"
     ]
    },
    {
     "data": {
      "image/png": "[encoded data removed]",
      "text/plain": [
       "<Figure size 432x288 with 1 Axes>"
      ]
     },
     "metadata": {
      "needs_background": "light"
     },
     "output_type": "display_data"
    },
    {
     "name": "stdout",
     "output_type": "stream",
     "text": [
      "A classe é R\n",
      "A classe é R\n",
      "A classe é R\n",
      "A classe é R\n"
     ]
    },
    {
     "data": {
      "image/png": "[encoded data removed]",
      "text/plain": [
       "<Figure size 432x288 with 2 Axes>"
      ]
     },
     "metadata": {
      "needs_background": "light"
     },
     "output_type": "display_data"
    }
   ],
   "source": [
    "# Info Gain\n",
    "data = Read_Data('balance-scale_data.csv', 'csv') # read a lecture example \n",
    "DT_teste_info_3 = DecisionTree('Info_Gain') # instanciate a Decision Tree class\n",
    "train = int(data.shape[0] * 0.75)\n",
    "DT_teste_info_3.Train(data = data.iloc[0:train,:]) # Train the Tree\n",
    "DT_teste_info_3.visualize_region()\n",
    "confusion_matrix(data,data.iloc[train:data.shape[0],:], DT_teste_info_3)"
   ]
  },
  {
   "cell_type": "code",
   "execution_count": 19,
   "metadata": {},
   "outputs": [
    {
     "name": "stderr",
     "output_type": "stream",
     "text": [
      "/home/rafael/.local/lib/python3.6/site-packages/ipykernel_launcher.py:112: RuntimeWarning: invalid value encountered in double_scalars\n"
     ]
    },
    {
     "name": "stdout",
     "output_type": "stream",
     "text": [
      ":... Left-Weight = '1': \n",
      "  :...  Left-Distance = '1': \n",
      "    :... Right-Weight = '1': \n",
      "      :... Right-Distance = '1': B\n",
      "      :... Right-Distance = '2': R\n",
      "      :... Right-Distance = '3': R\n",
      "      :... Right-Distance = '4': R\n",
      "      :... Right-Distance = '5': R\n",
      "    :... Right-Weight = '2': R\n",
      "    :... Right-Weight = '3': R\n"
     ]
    },
    {
     "data": {
      "image/png": "[encoded data removed]",
      "text/plain": [
       "<Figure size 432x288 with 1 Axes>"
      ]
     },
     "metadata": {
      "needs_background": "light"
     },
     "output_type": "display_data"
    },
    {
     "name": "stdout",
     "output_type": "stream",
     "text": [
      "A classe é R\n",
      "A classe é R\n",
      "A classe é R\n",
      "A classe é R\n"
     ]
    },
    {
     "data": {
      "image/png": "[encoded data removed]",
      "text/plain": [
       "<Figure size 432x288 with 2 Axes>"
      ]
     },
     "metadata": {
      "needs_background": "light"
     },
     "output_type": "display_data"
    }
   ],
   "source": [
    "# Gain ratio\n",
    "data = Read_Data('balance-scale_data.csv', 'csv') # read a lecture example \n",
    "DT_teste_ratio_3 = DecisionTree('Gain_ratio') # instanciate a Decision Tree class\n",
    "train = int(data.shape[0] * 0.75)\n",
    "DT_teste_ratio_3.Train(data = data.iloc[0:train,:]) # Train the Tree\n",
    "DT_teste_ratio_3.visualize_region()\n",
    "confusion_matrix(data,data.iloc[train:data.shape[0],:], DT_teste_ratio_3)"
   ]
  },
  {
   "cell_type": "markdown",
   "metadata": {},
   "source": [
    "![green-divider](https://user-images.githubusercontent.com/7065401/52071924-c003ad80-2562-11e9-8297-1c6595f8a7ff.png)\n",
    "### 4. Comparing the Info_Gain and Gain_ratio:\n",
    "<blockquote>\n",
    "    Dataset: baloon\n",
    "</blockquote>"
   ]
  },
  {
   "cell_type": "code",
   "execution_count": 20,
   "metadata": {},
   "outputs": [
    {
     "name": "stdout",
     "output_type": "stream",
     "text": [
      ":... act = DIP: F\n",
      ":... act = STRETCH: \n",
      "  :... age = ADULT: T\n",
      "  :... age = CHILD: F\n"
     ]
    },
    {
     "data": {
      "image/png": "[encoded data removed]",
      "text/plain": [
       "<Figure size 432x288 with 1 Axes>"
      ]
     },
     "metadata": {
      "needs_background": "light"
     },
     "output_type": "display_data"
    },
    {
     "name": "stdout",
     "output_type": "stream",
     "text": [
      "A classe é T\n",
      "A classe é T\n",
      "A classe é F\n",
      "A classe é F\n",
      "A classe é F\n"
     ]
    },
    {
     "data": {
      "image/png": "[encoded data removed]",
      "text/plain": [
       "<Figure size 432x288 with 2 Axes>"
      ]
     },
     "metadata": {
      "needs_background": "light"
     },
     "output_type": "display_data"
    }
   ],
   "source": [
    "# Info Gain\n",
    "data = Read_Data('baloon_data.csv', 'csv') # read a lecture example \n",
    "DT_teste_info_4 = DecisionTree('Info_Gain') # instanciate a Decision Tree class\n",
    "train = int(data.shape[0] * 0.75)\n",
    "DT_teste_info_4.Train(data = data.iloc[0:train,:]) # Train the Tree\n",
    "DT_teste_info_4.visualize_region()\n",
    "confusion_matrix(data,data.iloc[train:data.shape[0],:], DT_teste_info_4)"
   ]
  },
  {
   "cell_type": "code",
   "execution_count": 21,
   "metadata": {},
   "outputs": [
    {
     "name": "stdout",
     "output_type": "stream",
     "text": [
      ":... act = DIP: F\n",
      ":... act = STRETCH: \n",
      "  :... age = ADULT: T\n",
      "  :... age = CHILD: F\n"
     ]
    },
    {
     "data": {
      "image/png": "[encoded data removed]",
      "text/plain": [
       "<Figure size 432x288 with 1 Axes>"
      ]
     },
     "metadata": {
      "needs_background": "light"
     },
     "output_type": "display_data"
    },
    {
     "name": "stdout",
     "output_type": "stream",
     "text": [
      "A classe é T\n",
      "A classe é T\n",
      "A classe é F\n",
      "A classe é F\n",
      "A classe é F\n"
     ]
    },
    {
     "data": {
      "image/png": "[encoded data removed]",
      "text/plain": [
       "<Figure size 432x288 with 2 Axes>"
      ]
     },
     "metadata": {
      "needs_background": "light"
     },
     "output_type": "display_data"
    }
   ],
   "source": [
    "# Gain ratio\n",
    "data = Read_Data('baloon_data.csv', 'csv') # read a lecture example \n",
    "DT_teste_ratio_4 = DecisionTree('Gain_ratio') # instanciate a Decision Tree class\n",
    "train = int(data.shape[0] * 0.75)\n",
    "DT_teste_ratio_4.Train(data = data.iloc[0:train,:]) # Train the Tree\n",
    "DT_teste_ratio_4.visualize_region()\n",
    "confusion_matrix(data,data.iloc[train:data.shape[0],:], DT_teste_ratio_4)"
   ]
  },
  {
   "cell_type": "markdown",
   "metadata": {},
   "source": [
    "![green-divider](https://user-images.githubusercontent.com/7065401/52071924-c003ad80-2562-11e9-8297-1c6595f8a7ff.png)\n",
    "### 4. Comparing the Info_Gain and Gain_ratio:\n",
    "<blockquote>\n",
    "    Dataset: baloon\n",
    "</blockquote>"
   ]
  },
  {
   "cell_type": "code",
   "execution_count": 23,
   "metadata": {},
   "outputs": [
    {
     "name": "stdout",
     "output_type": "stream",
     "text": [
      ":... tear production rate = normal: \n",
      "  :... age of the patient = pre-presbyopic: \n",
      "    :... spectacle prescription = hypermetrope: the patient should not be fitted with contact lenses\n",
      "    :... spectacle prescription = myope: the patient should be fitted with hard contact lenses\n",
      "  :... age of the patient = presbyopic: the patient should not be fitted with contact lenses\n",
      "  :... age of the patient = young: the patient should be fitted with hard contact lenses\n",
      ":... tear production rate = normalthe : patient should be fitted with soft contact lenses\n",
      ":... tear production rate = reduced: the patient should not be fitted with contact lenses\n"
     ]
    },
    {
     "data": {
      "image/png": "[encoded data removed]",
      "text/plain": [
       "<Figure size 432x288 with 1 Axes>"
      ]
     },
     "metadata": {
      "needs_background": "light"
     },
     "output_type": "display_data"
    },
    {
     "name": "stdout",
     "output_type": "stream",
     "text": [
      "A classe é the patient should not be fitted with contact lenses\n",
      "A classe é the patient should not be fitted with contact lenses\n",
      "A classe é the patient should not be fitted with contact lenses\n",
      "A classe é patient should be fitted with soft contact lenses\n",
      "A classe é the patient should not be fitted with contact lenses\n",
      "A classe é the patient should not be fitted with contact lenses\n"
     ]
    },
    {
     "data": {
      "image/png": "[encoded data removed]",
      "text/plain": [
       "<Figure size 432x288 with 2 Axes>"
      ]
     },
     "metadata": {
      "needs_background": "light"
     },
     "output_type": "display_data"
    }
   ],
   "source": [
    "# Info Gain\n",
    "data = Read_Data('lenses_data.csv', 'csv') # read a lecture example \n",
    "DT_teste_info_5 = DecisionTree('Info_Gain') # instanciate a Decision Tree class\n",
    "train = int(data.shape[0] * 0.75)\n",
    "DT_teste_info_5.Train(data = data.iloc[0:train,:]) # Train the Tree\n",
    "DT_teste_info_5.visualize_region()\n",
    "confusion_matrix(data,data.iloc[train:data.shape[0],:], DT_teste_info_5)"
   ]
  },
  {
   "cell_type": "code",
   "execution_count": 22,
   "metadata": {},
   "outputs": [
    {
     "name": "stdout",
     "output_type": "stream",
     "text": [
      ":... tear production rate = normal: \n",
      "  :... age of the patient = pre-presbyopic: \n",
      "    :... spectacle prescription = hypermetrope: the patient should not be fitted with contact lenses\n",
      "    :... spectacle prescription = myope: the patient should be fitted with hard contact lenses\n",
      "  :... age of the patient = presbyopic: the patient should not be fitted with contact lenses\n",
      "  :... age of the patient = young: the patient should be fitted with hard contact lenses\n",
      ":... tear production rate = normalthe : patient should be fitted with soft contact lenses\n",
      ":... tear production rate = reduced: the patient should not be fitted with contact lenses\n"
     ]
    },
    {
     "data": {
      "image/png": "[encoded data removed]",
      "text/plain": [
       "<Figure size 432x288 with 1 Axes>"
      ]
     },
     "metadata": {
      "needs_background": "light"
     },
     "output_type": "display_data"
    },
    {
     "name": "stdout",
     "output_type": "stream",
     "text": [
      "A classe é the patient should not be fitted with contact lenses\n",
      "A classe é the patient should not be fitted with contact lenses\n",
      "A classe é the patient should not be fitted with contact lenses\n",
      "A classe é patient should be fitted with soft contact lenses\n",
      "A classe é the patient should not be fitted with contact lenses\n",
      "A classe é the patient should not be fitted with contact lenses\n"
     ]
    },
    {
     "data": {
      "image/png": "[encoded data removed]",
      "text/plain": [
       "<Figure size 432x288 with 2 Axes>"
      ]
     },
     "metadata": {
      "needs_background": "light"
     },
     "output_type": "display_data"
    }
   ],
   "source": [
    "# Gain ratio\n",
    "data = Read_Data('lenses_data.csv', 'csv') # read a lecture example \n",
    "DT_teste_ratio_5 = DecisionTree('Gain_ratio') # instanciate a Decision Tree class\n",
    "train = int(data.shape[0] * 0.75)\n",
    "DT_teste_ratio_5.Train(data = data.iloc[0:train,:]) # Train the Tree\n",
    "DT_teste_ratio_5.visualize_region()\n",
    "confusion_matrix(data,data.iloc[train:data.shape[0],:], DT_teste_ratio_5)"
   ]
  }
 ],
 "metadata": {
  "kernelspec": {
   "display_name": "Python 3",
   "language": "python",
   "name": "python3"
  },
  "language_info": {
   "codemirror_mode": {
    "name": "ipython",
    "version": 3
   },
   "file_extension": ".py",
   "mimetype": "text/x-python",
   "name": "python",
   "nbconvert_exporter": "python",
   "pygments_lexer": "ipython3",
   "version": "3.6.9"
  }
 },
 "nbformat": 4,
 "nbformat_minor": 4
}
