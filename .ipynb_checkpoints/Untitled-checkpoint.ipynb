{
 "cells": [
  {
   "cell_type": "markdown",
   "metadata": {},
   "source": [
    "![purple-divider](https://user-images.githubusercontent.com/7065401/52071927-c1cd7100-2562-11e9-908a-dde91ba14e59.png)\n",
    "\n",
    "### Introdution to Machine Learning \n",
    "<blockquote>Discipline 5955006-2, USP-RP 06/05/2020 </blockquote>\n",
    "\n",
    "### <img width=\"400\" src=\"Usp_logo.png\">"
   ]
  },
  {
   "cell_type": "markdown",
   "metadata": {},
   "source": [
    "![green-divider](https://user-images.githubusercontent.com/7065401/52071924-c003ad80-2562-11e9-8297-1c6595f8a7ff.png)\n",
    "### Objectives:\n",
    "\n",
    "<blockquote>\n",
    "    <ol>\n",
    "        <li>Making datasets reader function for:\n",
    "    csv, xlsx and json data formats</li>\n",
    "        <li>Confection of a decision Tree Class</li>\n",
    "        <li>Plot the best visualization forms to see the results</li>\n",
    "    </ol>\n",
    "</blockquote>\n",
    "    "
   ]
  },
  {
   "cell_type": "markdown",
   "metadata": {},
   "source": [
    "![green-divider](https://user-images.githubusercontent.com/7065401/52071924-c003ad80-2562-11e9-8297-1c6595f8a7ff.png)\n",
    "### 1. Making datasets reader function for:\n",
    "<blockquote>\n",
    "csv, xlsx and json data formats\n",
    "</blockquote>"
   ]
  },
  {
   "cell_type": "code",
   "execution_count": null,
   "metadata": {},
   "outputs": [],
   "source": [
    "import pandas as pd # import library for read datasets types\n",
    "\n",
    "# this function read a datset with format of: csv, json or xlsx\n",
    "#\n",
    "# path: the path of dataset in your computer\n",
    "def Read_Data(path, extension):\n",
    "    \n",
    "    aceptable_formats = ['csv', 'xlsx', 'json']\n",
    "    \n",
    "    if (extension not in aceptable_formats):\n",
    "        print('please choose a aceptable format: ', aceptable_formats)\n",
    "        return\n",
    "    if(extension == 'xlsx'):\n",
    "        ps."
   ]
  }
 ],
 "metadata": {
  "kernelspec": {
   "display_name": "Python 3",
   "language": "python",
   "name": "python3"
  },
  "language_info": {
   "codemirror_mode": {
    "name": "ipython",
    "version": 3
   },
   "file_extension": ".py",
   "mimetype": "text/x-python",
   "name": "python",
   "nbconvert_exporter": "python",
   "pygments_lexer": "ipython3",
   "version": "3.6.9"
  }
 },
 "nbformat": 4,
 "nbformat_minor": 4
}
